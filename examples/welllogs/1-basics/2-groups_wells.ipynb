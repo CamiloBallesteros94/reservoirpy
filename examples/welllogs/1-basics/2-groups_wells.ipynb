{
 "cells": [
  {
   "cell_type": "markdown",
   "metadata": {
    "colab_type": "text",
    "id": "4yrdYIPSIAD9"
   },
   "source": [
    "# WELL NOTEBOOK\n",
    "## Well logs visualization &amp; petrophysics"
   ]
  },
  {
   "cell_type": "markdown",
   "metadata": {
    "colab_type": "text",
    "id": "p8qMZCfPIAD_"
   },
   "source": [
    "Install the the repository reservoirpy from github and import the required packages"
   ]
  },
  {
   "cell_type": "code",
   "execution_count": 1,
   "metadata": {
    "colab": {
     "base_uri": "https://localhost:8080/",
     "height": 564
    },
    "colab_type": "code",
    "id": "MFmaILapIAEA",
    "outputId": "1cab79f5-0c00-47b8-9832-c6113ad59e67"
   },
   "outputs": [],
   "source": [
    "import os\n",
    "path = os.path.abspath(os.path.join('..','..','..'))\n",
    "import sys\n",
    "sys.path.append(path)\n",
    "import pandas as pd\n",
    "import geopandas as gpd\n",
    "import numpy as np\n",
    "import matplotlib.pyplot as plt\n",
    "import seaborn as sns\n",
    "from shapely.geometry import Point\n",
    "import folium\n",
    "from pyproj import Proj, transform, CRS, Transformer\n",
    "from reservoirpy.welllogspy import tracks as tk\n",
    "from reservoirpy.welllogspy import petrophysics as pt\n",
    "from reservoirpy.welllogspy.log import log \n",
    "from reservoirpy.wellpy import path as ph\n",
    "from reservoirpy.wellproductivitypy import pi"
   ]
  },
  {
   "cell_type": "markdown",
   "metadata": {
    "colab_type": "text",
    "id": "WidbSIz2IAEF"
   },
   "source": [
    "### Well atributes\n",
    "\n",
    "Well atributes, name, rte, coordinates, survey"
   ]
  },
  {
   "cell_type": "code",
   "execution_count": 2,
   "metadata": {
    "colab": {
     "base_uri": "https://localhost:8080/",
     "height": 221
    },
    "colab_type": "code",
    "id": "FK5K_TQyIAEH",
    "outputId": "b79bfabb-8dfc-4e7c-c2d3-2576422ff075"
   },
   "outputs": [],
   "source": [
    "#Create the well object\n",
    "name1 = 'well-1'\n",
    "rte1 = 515.78 # Rotary table Elevation\n",
    "surf_coord1 = Point(1025165.89,1147730.75)\n",
    "crs1 = 'EPSG:3117'\n",
    "\n",
    "w1 = ph.well(name=name1, \n",
    "             rte=rte1, \n",
    "             surf_coord=surf_coord1, \n",
    "             crs=crs1)\n",
    "\n",
    "\n",
    "#Create the well object\n",
    "name2 = 'well-2'\n",
    "rte2 = 845.2 # Rotary table Elevation\n",
    "surf_coord2 = Point(1025165.89,1147736.75)\n",
    "crs2 = 'EPSG:3117'\n",
    "\n",
    "w2 = ph.well(name=name2, \n",
    "             rte=rte2, \n",
    "             surf_coord=surf_coord2, \n",
    "             crs=crs2)\n",
    "\n",
    "\n",
    "#Create the well object\n",
    "name3 = 'well-3'\n",
    "rte3 = 245.2 # Rotary table Elevation\n",
    "surf_coord3 = Point(1021165.89,1145736.75,545.2)\n",
    "crs3 = 'EPSG:3117'\n",
    "\n",
    "w3 = ph.well(name=name3, \n",
    "             rte=rte3, \n",
    "             surf_coord=surf_coord3, \n",
    "             crs=crs3)"
   ]
  },
  {
   "cell_type": "code",
   "execution_count": 3,
   "metadata": {},
   "outputs": [],
   "source": [
    "g1 = ph.wells_group()"
   ]
  },
  {
   "cell_type": "code",
   "execution_count": 4,
   "metadata": {},
   "outputs": [
    {
     "data": {
      "text/plain": [
       "{}"
      ]
     },
     "execution_count": 4,
     "metadata": {},
     "output_type": "execute_result"
    }
   ],
   "source": [
    "g1.wells"
   ]
  },
  {
   "cell_type": "code",
   "execution_count": 5,
   "metadata": {},
   "outputs": [],
   "source": [
    "g1.add_well(w3)"
   ]
  },
  {
   "cell_type": "code",
   "execution_count": 7,
   "metadata": {},
   "outputs": [],
   "source": [
    "g1.add_well(w1,w2)"
   ]
  },
  {
   "cell_type": "code",
   "execution_count": 8,
   "metadata": {},
   "outputs": [
    {
     "data": {
      "text/plain": [
       "{'well-3': <reservoirpy.wellpy.path.wells.well at 0x7f1974f50910>,\n",
       " 'well-1': <reservoirpy.wellpy.path.wells.well at 0x7f1974f50950>,\n",
       " 'well-2': <reservoirpy.wellpy.path.wells.well at 0x7f1974f50a90>}"
      ]
     },
     "execution_count": 8,
     "metadata": {},
     "output_type": "execute_result"
    }
   ],
   "source": [
    "g1.wells"
   ]
  }
 ],
 "metadata": {
  "accelerator": "GPU",
  "celltoolbar": "Slideshow",
  "colab": {
   "name": "Boral-02 Notebook.ipynb",
   "provenance": []
  },
  "kernelspec": {
   "display_name": "Python 3",
   "language": "python",
   "name": "python3"
  },
  "language_info": {
   "codemirror_mode": {
    "name": "ipython",
    "version": 3
   },
   "file_extension": ".py",
   "mimetype": "text/x-python",
   "name": "python",
   "nbconvert_exporter": "python",
   "pygments_lexer": "ipython3",
   "version": "3.7.5"
  }
 },
 "nbformat": 4,
 "nbformat_minor": 1
}
