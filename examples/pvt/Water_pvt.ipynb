{
 "cells": [
  {
   "cell_type": "code",
   "execution_count": 1,
   "metadata": {},
   "outputs": [
    {
     "name": "stderr",
     "output_type": "stream",
     "text": [
      "/home/santiago/Documents/dev/reservoirpy/reservoirpy/pvtpy/black_oil/pvt.py:334: SyntaxWarning: assertion is always true, perhaps remove parentheses?\n",
      "  assert(pressure,(list,np.ndarray,type(None)))\n"
     ]
    }
   ],
   "source": [
    "import os\n",
    "path = os.path.abspath(os.path.join('..','..'))\n",
    "import sys\n",
    "sys.path.append(path)\n",
    "from reservoirpy.pvtpy import black_oil as bo\n",
    "import pandas as pd\n",
    "import numpy as np\n",
    "import matplotlib.pyplot as plt\n",
    "import pandas as pd\n"
   ]
  },
  {
   "cell_type": "code",
   "execution_count": 2,
   "metadata": {},
   "outputs": [],
   "source": [
    "s = 20000\n",
    "p = 5000\n",
    "t = 200\n",
    "rsw = 17.8\n",
    "p_range = np.linspace(1000,5000,10)"
   ]
  },
  {
   "cell_type": "code",
   "execution_count": 3,
   "metadata": {},
   "outputs": [
    {
     "data": {
      "text/html": [
       "<div>\n",
       "<style scoped>\n",
       "    .dataframe tbody tr th:only-of-type {\n",
       "        vertical-align: middle;\n",
       "    }\n",
       "\n",
       "    .dataframe tbody tr th {\n",
       "        vertical-align: top;\n",
       "    }\n",
       "\n",
       "    .dataframe thead th {\n",
       "        text-align: right;\n",
       "    }\n",
       "</style>\n",
       "<table border=\"1\" class=\"dataframe\">\n",
       "  <thead>\n",
       "    <tr style=\"text-align: right;\">\n",
       "      <th></th>\n",
       "      <th>rws_culberson</th>\n",
       "      <th>rsw_mccoy</th>\n",
       "    </tr>\n",
       "    <tr>\n",
       "      <th>pressure</th>\n",
       "      <th></th>\n",
       "      <th></th>\n",
       "    </tr>\n",
       "  </thead>\n",
       "  <tbody>\n",
       "    <tr>\n",
       "      <th>5000</th>\n",
       "      <td>20.025272</td>\n",
       "      <td>17.728061</td>\n",
       "    </tr>\n",
       "  </tbody>\n",
       "</table>\n",
       "</div>"
      ],
      "text/plain": [
       "          rws_culberson  rsw_mccoy\n",
       "pressure                          \n",
       "5000          20.025272  17.728061"
      ]
     },
     "execution_count": 3,
     "metadata": {},
     "output_type": "execute_result"
    }
   ],
   "source": [
    "bo.rsw(p=p,t=t,s=s,method=['culberson','mccoy'])"
   ]
  },
  {
   "cell_type": "code",
   "execution_count": 4,
   "metadata": {},
   "outputs": [
    {
     "data": {
      "text/html": [
       "<div>\n",
       "<style scoped>\n",
       "    .dataframe tbody tr th:only-of-type {\n",
       "        vertical-align: middle;\n",
       "    }\n",
       "\n",
       "    .dataframe tbody tr th {\n",
       "        vertical-align: top;\n",
       "    }\n",
       "\n",
       "    .dataframe thead th {\n",
       "        text-align: right;\n",
       "    }\n",
       "</style>\n",
       "<table border=\"1\" class=\"dataframe\">\n",
       "  <thead>\n",
       "    <tr style=\"text-align: right;\">\n",
       "      <th></th>\n",
       "      <th>bw_mccain</th>\n",
       "      <th>bw_mccoy</th>\n",
       "    </tr>\n",
       "    <tr>\n",
       "      <th>pressure</th>\n",
       "      <th></th>\n",
       "      <th></th>\n",
       "    </tr>\n",
       "  </thead>\n",
       "  <tbody>\n",
       "    <tr>\n",
       "      <th>1000.000000</th>\n",
       "      <td>1.039063</td>\n",
       "      <td>1.000346</td>\n",
       "    </tr>\n",
       "    <tr>\n",
       "      <th>1444.444444</th>\n",
       "      <td>1.039100</td>\n",
       "      <td>1.000382</td>\n",
       "    </tr>\n",
       "    <tr>\n",
       "      <th>1888.888889</th>\n",
       "      <td>1.039137</td>\n",
       "      <td>1.000418</td>\n",
       "    </tr>\n",
       "    <tr>\n",
       "      <th>2333.333333</th>\n",
       "      <td>1.039175</td>\n",
       "      <td>1.000454</td>\n",
       "    </tr>\n",
       "    <tr>\n",
       "      <th>2777.777778</th>\n",
       "      <td>1.039212</td>\n",
       "      <td>1.000490</td>\n",
       "    </tr>\n",
       "    <tr>\n",
       "      <th>3222.222222</th>\n",
       "      <td>1.039249</td>\n",
       "      <td>1.000526</td>\n",
       "    </tr>\n",
       "    <tr>\n",
       "      <th>3666.666667</th>\n",
       "      <td>1.039287</td>\n",
       "      <td>1.000561</td>\n",
       "    </tr>\n",
       "    <tr>\n",
       "      <th>4111.111111</th>\n",
       "      <td>1.039324</td>\n",
       "      <td>1.000597</td>\n",
       "    </tr>\n",
       "    <tr>\n",
       "      <th>4555.555556</th>\n",
       "      <td>1.039361</td>\n",
       "      <td>1.000633</td>\n",
       "    </tr>\n",
       "    <tr>\n",
       "      <th>5000.000000</th>\n",
       "      <td>1.039398</td>\n",
       "      <td>1.000669</td>\n",
       "    </tr>\n",
       "  </tbody>\n",
       "</table>\n",
       "</div>"
      ],
      "text/plain": [
       "             bw_mccain  bw_mccoy\n",
       "pressure                        \n",
       "1000.000000   1.039063  1.000346\n",
       "1444.444444   1.039100  1.000382\n",
       "1888.888889   1.039137  1.000418\n",
       "2333.333333   1.039175  1.000454\n",
       "2777.777778   1.039212  1.000490\n",
       "3222.222222   1.039249  1.000526\n",
       "3666.666667   1.039287  1.000561\n",
       "4111.111111   1.039324  1.000597\n",
       "4555.555556   1.039361  1.000633\n",
       "5000.000000   1.039398  1.000669"
      ]
     },
     "execution_count": 4,
     "metadata": {},
     "output_type": "execute_result"
    }
   ],
   "source": [
    "bo.bw(p=p_range,t=t,s=s,method=['mccain','mccoy'])"
   ]
  },
  {
   "cell_type": "code",
   "execution_count": 5,
   "metadata": {},
   "outputs": [
    {
     "data": {
      "text/plain": [
       "<matplotlib.axes._subplots.AxesSubplot at 0x7f8c957e77d0>"
      ]
     },
     "execution_count": 5,
     "metadata": {},
     "output_type": "execute_result"
    },
    {
     "data": {
      "image/png": "[encoded data removed]",
      "text/plain": [
       "<Figure size 432x288 with 1 Axes>"
      ]
     },
     "metadata": {
      "needs_background": "light"
     },
     "output_type": "display_data"
    }
   ],
   "source": [
    "bo.cw(p=p_range,t=t,s=s,rsw=rsw,method=['standing','osif']).plot()"
   ]
  },
  {
   "cell_type": "code",
   "execution_count": 6,
   "metadata": {},
   "outputs": [
    {
     "data": {
      "text/html": [
       "<div>\n",
       "<style scoped>\n",
       "    .dataframe tbody tr th:only-of-type {\n",
       "        vertical-align: middle;\n",
       "    }\n",
       "\n",
       "    .dataframe tbody tr th {\n",
       "        vertical-align: top;\n",
       "    }\n",
       "\n",
       "    .dataframe thead th {\n",
       "        text-align: right;\n",
       "    }\n",
       "</style>\n",
       "<table border=\"1\" class=\"dataframe\">\n",
       "  <thead>\n",
       "    <tr style=\"text-align: right;\">\n",
       "      <th></th>\n",
       "      <th>muw_van_wingen</th>\n",
       "      <th>muw_russel</th>\n",
       "    </tr>\n",
       "    <tr>\n",
       "      <th>pressure</th>\n",
       "      <th></th>\n",
       "      <th></th>\n",
       "    </tr>\n",
       "  </thead>\n",
       "  <tbody>\n",
       "    <tr>\n",
       "      <th>1000.000000</th>\n",
       "      <td>0.312797</td>\n",
       "      <td>0.327142</td>\n",
       "    </tr>\n",
       "    <tr>\n",
       "      <th>1444.444444</th>\n",
       "      <td>0.312797</td>\n",
       "      <td>0.327341</td>\n",
       "    </tr>\n",
       "    <tr>\n",
       "      <th>1888.888889</th>\n",
       "      <td>0.312797</td>\n",
       "      <td>0.327612</td>\n",
       "    </tr>\n",
       "    <tr>\n",
       "      <th>2333.333333</th>\n",
       "      <td>0.312797</td>\n",
       "      <td>0.327956</td>\n",
       "    </tr>\n",
       "    <tr>\n",
       "      <th>2777.777778</th>\n",
       "      <td>0.312797</td>\n",
       "      <td>0.328372</td>\n",
       "    </tr>\n",
       "    <tr>\n",
       "      <th>3222.222222</th>\n",
       "      <td>0.312797</td>\n",
       "      <td>0.328860</td>\n",
       "    </tr>\n",
       "    <tr>\n",
       "      <th>3666.666667</th>\n",
       "      <td>0.312797</td>\n",
       "      <td>0.329421</td>\n",
       "    </tr>\n",
       "    <tr>\n",
       "      <th>4111.111111</th>\n",
       "      <td>0.312797</td>\n",
       "      <td>0.330054</td>\n",
       "    </tr>\n",
       "    <tr>\n",
       "      <th>4555.555556</th>\n",
       "      <td>0.312797</td>\n",
       "      <td>0.330759</td>\n",
       "    </tr>\n",
       "    <tr>\n",
       "      <th>5000.000000</th>\n",
       "      <td>0.312797</td>\n",
       "      <td>0.331537</td>\n",
       "    </tr>\n",
       "  </tbody>\n",
       "</table>\n",
       "</div>"
      ],
      "text/plain": [
       "             muw_van_wingen  muw_russel\n",
       "pressure                               \n",
       "1000.000000        0.312797    0.327142\n",
       "1444.444444        0.312797    0.327341\n",
       "1888.888889        0.312797    0.327612\n",
       "2333.333333        0.312797    0.327956\n",
       "2777.777778        0.312797    0.328372\n",
       "3222.222222        0.312797    0.328860\n",
       "3666.666667        0.312797    0.329421\n",
       "4111.111111        0.312797    0.330054\n",
       "4555.555556        0.312797    0.330759\n",
       "5000.000000        0.312797    0.331537"
      ]
     },
     "execution_count": 6,
     "metadata": {},
     "output_type": "execute_result"
    }
   ],
   "source": [
    "bo.muw(p=p_range,t=t,s=s,method=['russel', 'van_wingen'])"
   ]
  },
  {
   "cell_type": "code",
   "execution_count": 7,
   "metadata": {},
   "outputs": [
    {
     "data": {
      "text/plain": [
       "MultiIndex([(            1000.0, 200),\n",
       "            (1444.4444444444443, 200),\n",
       "            ( 1888.888888888889, 200),\n",
       "            (2333.3333333333335, 200),\n",
       "            ( 2777.777777777778, 200),\n",
       "            ( 3222.222222222222, 200),\n",
       "            ( 3666.666666666667, 200),\n",
       "            ( 4111.111111111111, 200),\n",
       "            ( 4555.555555555556, 200),\n",
       "            (            5000.0, 200)],\n",
       "           names=['number', 'color'])"
      ]
     },
     "execution_count": 7,
     "metadata": {},
     "output_type": "execute_result"
    }
   ],
   "source": [
    "pd.MultiIndex.from_arrays([p_range, np.full(p_range.shape,t)], names=('number', 'color'))"
   ]
  },
  {
   "cell_type": "code",
   "execution_count": 8,
   "metadata": {},
   "outputs": [
    {
     "data": {
      "text/html": [
       "<div>\n",
       "<style scoped>\n",
       "    .dataframe tbody tr th:only-of-type {\n",
       "        vertical-align: middle;\n",
       "    }\n",
       "\n",
       "    .dataframe tbody tr th {\n",
       "        vertical-align: top;\n",
       "    }\n",
       "\n",
       "    .dataframe thead th {\n",
       "        text-align: right;\n",
       "    }\n",
       "</style>\n",
       "<table border=\"1\" class=\"dataframe\">\n",
       "  <thead>\n",
       "    <tr style=\"text-align: right;\">\n",
       "      <th></th>\n",
       "      <th>rhow</th>\n",
       "    </tr>\n",
       "    <tr>\n",
       "      <th>pressure</th>\n",
       "      <th></th>\n",
       "    </tr>\n",
       "  </thead>\n",
       "  <tbody>\n",
       "    <tr>\n",
       "      <th>5000</th>\n",
       "      <td>63.26736</td>\n",
       "    </tr>\n",
       "  </tbody>\n",
       "</table>\n",
       "</div>"
      ],
      "text/plain": [
       "              rhow\n",
       "pressure          \n",
       "5000      63.26736"
      ]
     },
     "execution_count": 8,
     "metadata": {},
     "output_type": "execute_result"
    }
   ],
   "source": [
    "bo.rhow(p=p, s=s)"
   ]
  },
  {
   "cell_type": "code",
   "execution_count": 9,
   "metadata": {},
   "outputs": [],
   "source": [
    "#c1 = component(name='methane', symbol='C1H4', mw=16.043, ppc=666, tpc=-116)"
   ]
  },
  {
   "cell_type": "code",
   "execution_count": 10,
   "metadata": {},
   "outputs": [
    {
     "name": "stdout",
     "output_type": "stream",
     "text": [
      "enter Join\n"
     ]
    }
   ],
   "source": [
    "x=bo.chromatography({'mole_fraction':[0.75,0.1,0.58,0.07]}, index=['methane', 'ethane', 'propane','isobutane'])"
   ]
  },
  {
   "cell_type": "markdown",
   "metadata": {},
   "source": []
  },
  {
   "cell_type": "code",
   "execution_count": 13,
   "metadata": {},
   "outputs": [
    {
     "data": {
      "text/html": [
       "<div>\n",
       "<style scoped>\n",
       "    .dataframe tbody tr th:only-of-type {\n",
       "        vertical-align: middle;\n",
       "    }\n",
       "\n",
       "    .dataframe tbody tr th {\n",
       "        vertical-align: top;\n",
       "    }\n",
       "\n",
       "    .dataframe thead th {\n",
       "        text-align: right;\n",
       "    }\n",
       "</style>\n",
       "<table border=\"1\" class=\"dataframe\">\n",
       "  <thead>\n",
       "    <tr style=\"text-align: right;\">\n",
       "      <th></th>\n",
       "      <th>mole_fraction</th>\n",
       "      <th>formula</th>\n",
       "      <th>mw</th>\n",
       "      <th>ppc</th>\n",
       "      <th>tpc</th>\n",
       "    </tr>\n",
       "  </thead>\n",
       "  <tbody>\n",
       "    <tr>\n",
       "      <th>methane</th>\n",
       "      <td>0.500000</td>\n",
       "      <td>CH4</td>\n",
       "      <td>16.043</td>\n",
       "      <td>666.4</td>\n",
       "      <td>-116.67</td>\n",
       "    </tr>\n",
       "    <tr>\n",
       "      <th>ethane</th>\n",
       "      <td>0.066667</td>\n",
       "      <td>C2H6</td>\n",
       "      <td>30.070</td>\n",
       "      <td>706.5</td>\n",
       "      <td>89.92</td>\n",
       "    </tr>\n",
       "    <tr>\n",
       "      <th>propane</th>\n",
       "      <td>0.386667</td>\n",
       "      <td>C3H8</td>\n",
       "      <td>44.097</td>\n",
       "      <td>616.0</td>\n",
       "      <td>206.06</td>\n",
       "    </tr>\n",
       "    <tr>\n",
       "      <th>isobutane</th>\n",
       "      <td>0.046667</td>\n",
       "      <td>C4H10</td>\n",
       "      <td>58.123</td>\n",
       "      <td>527.9</td>\n",
       "      <td>274.46</td>\n",
       "    </tr>\n",
       "  </tbody>\n",
       "</table>\n",
       "</div>"
      ],
      "text/plain": [
       "           mole_fraction formula      mw    ppc     tpc\n",
       "methane         0.500000     CH4  16.043  666.4 -116.67\n",
       "ethane          0.066667    C2H6  30.070  706.5   89.92\n",
       "propane         0.386667    C3H8  44.097  616.0  206.06\n",
       "isobutane       0.046667   C4H10  58.123  527.9  274.46"
      ]
     },
     "execution_count": 13,
     "metadata": {},
     "output_type": "execute_result"
    }
   ],
   "source": [
    "x"
   ]
  },
  {
   "cell_type": "code",
   "execution_count": 12,
   "metadata": {},
   "outputs": [
    {
     "data": {
      "text/html": [
       "<div>\n",
       "<style scoped>\n",
       "    .dataframe tbody tr th:only-of-type {\n",
       "        vertical-align: middle;\n",
       "    }\n",
       "\n",
       "    .dataframe tbody tr th {\n",
       "        vertical-align: top;\n",
       "    }\n",
       "\n",
       "    .dataframe thead th {\n",
       "        text-align: right;\n",
       "    }\n",
       "</style>\n",
       "<table border=\"1\" class=\"dataframe\">\n",
       "  <thead>\n",
       "    <tr style=\"text-align: right;\">\n",
       "      <th></th>\n",
       "      <th>formula_x</th>\n",
       "      <th>mw_x</th>\n",
       "      <th>ppc_x</th>\n",
       "      <th>tpc_x</th>\n",
       "      <th>mole_fraction</th>\n",
       "      <th>formula_y</th>\n",
       "      <th>mw_y</th>\n",
       "      <th>ppc_y</th>\n",
       "      <th>tpc_y</th>\n",
       "    </tr>\n",
       "  </thead>\n",
       "  <tbody>\n",
       "    <tr>\n",
       "      <th>methane</th>\n",
       "      <td>CH4</td>\n",
       "      <td>16.043</td>\n",
       "      <td>666.4</td>\n",
       "      <td>-116.67</td>\n",
       "      <td>0.500000</td>\n",
       "      <td>CH4</td>\n",
       "      <td>16.043</td>\n",
       "      <td>666.4</td>\n",
       "      <td>-116.67</td>\n",
       "    </tr>\n",
       "    <tr>\n",
       "      <th>ethane</th>\n",
       "      <td>C2H6</td>\n",
       "      <td>30.070</td>\n",
       "      <td>706.5</td>\n",
       "      <td>89.92</td>\n",
       "      <td>0.066667</td>\n",
       "      <td>C2H6</td>\n",
       "      <td>30.070</td>\n",
       "      <td>706.5</td>\n",
       "      <td>89.92</td>\n",
       "    </tr>\n",
       "    <tr>\n",
       "      <th>propane</th>\n",
       "      <td>C3H8</td>\n",
       "      <td>44.097</td>\n",
       "      <td>616.0</td>\n",
       "      <td>206.06</td>\n",
       "      <td>0.386667</td>\n",
       "      <td>C3H8</td>\n",
       "      <td>44.097</td>\n",
       "      <td>616.0</td>\n",
       "      <td>206.06</td>\n",
       "    </tr>\n",
       "    <tr>\n",
       "      <th>isobutane</th>\n",
       "      <td>C4H10</td>\n",
       "      <td>58.123</td>\n",
       "      <td>527.9</td>\n",
       "      <td>274.46</td>\n",
       "      <td>0.046667</td>\n",
       "      <td>C4H10</td>\n",
       "      <td>58.123</td>\n",
       "      <td>527.9</td>\n",
       "      <td>274.46</td>\n",
       "    </tr>\n",
       "  </tbody>\n",
       "</table>\n",
       "</div>"
      ],
      "text/plain": [
       "          formula_x    mw_x  ppc_x   tpc_x  mole_fraction formula_y    mw_y  \\\n",
       "methane         CH4  16.043  666.4 -116.67       0.500000       CH4  16.043   \n",
       "ethane         C2H6  30.070  706.5   89.92       0.066667      C2H6  30.070   \n",
       "propane        C3H8  44.097  616.0  206.06       0.386667      C3H8  44.097   \n",
       "isobutane     C4H10  58.123  527.9  274.46       0.046667     C4H10  58.123   \n",
       "\n",
       "           ppc_y   tpc_y  \n",
       "methane    666.4 -116.67  \n",
       "ethane     706.5   89.92  \n",
       "propane    616.0  206.06  \n",
       "isobutane  527.9  274.46  "
      ]
     },
     "execution_count": 12,
     "metadata": {},
     "output_type": "execute_result"
    }
   ],
   "source": [
    "bo.properties_df.merge(x, how='inner', right_index=True, left_index=True)"
   ]
  },
  {
   "cell_type": "code",
   "execution_count": null,
   "metadata": {},
   "outputs": [],
   "source": []
  }
 ],
 "metadata": {
  "kernelspec": {
   "display_name": "Python 3",
   "language": "python",
   "name": "python3"
  },
  "language_info": {
   "codemirror_mode": {
    "name": "ipython",
    "version": 3
   },
   "file_extension": ".py",
   "mimetype": "text/x-python",
   "name": "python",
   "nbconvert_exporter": "python",
   "pygments_lexer": "ipython3",
   "version": "3.7.5"
  }
 },
 "nbformat": 4,
 "nbformat_minor": 4
}
