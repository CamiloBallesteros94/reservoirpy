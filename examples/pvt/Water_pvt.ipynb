{
 "cells": [
  {
   "cell_type": "code",
   "execution_count": 1,
   "metadata": {},
   "outputs": [],
   "source": [
    "import os\n",
    "path = os.path.abspath(os.path.join('..','..'))\n",
    "import sys\n",
    "sys.path.append(path)\n",
    "from reservoirpy.pvtpy import black_oil as bo\n",
    "import pandas as pd\n",
    "import numpy as np\n",
    "import matplotlib.pyplot as plt\n",
    "import pandas as pd"
   ]
  },
  {
   "cell_type": "code",
   "execution_count": 2,
   "metadata": {},
   "outputs": [
    {
     "data": {
      "text/html": [
       "<div>\n",
       "<style scoped>\n",
       "    .dataframe tbody tr th:only-of-type {\n",
       "        vertical-align: middle;\n",
       "    }\n",
       "\n",
       "    .dataframe tbody tr th {\n",
       "        vertical-align: top;\n",
       "    }\n",
       "\n",
       "    .dataframe thead th {\n",
       "        text-align: right;\n",
       "    }\n",
       "</style>\n",
       "<table border=\"1\" class=\"dataframe\">\n",
       "  <thead>\n",
       "    <tr style=\"text-align: right;\">\n",
       "      <th></th>\n",
       "      <th>rws_culberson</th>\n",
       "      <th>rsw_mccoy</th>\n",
       "    </tr>\n",
       "    <tr>\n",
       "      <th>pressure</th>\n",
       "      <th></th>\n",
       "      <th></th>\n",
       "    </tr>\n",
       "  </thead>\n",
       "  <tbody>\n",
       "    <tr>\n",
       "      <th>1000.000000</th>\n",
       "      <td>6.652977</td>\n",
       "      <td>6.914256</td>\n",
       "    </tr>\n",
       "    <tr>\n",
       "      <th>1444.444444</th>\n",
       "      <td>8.657182</td>\n",
       "      <td>9.061278</td>\n",
       "    </tr>\n",
       "    <tr>\n",
       "      <th>1888.888889</th>\n",
       "      <td>10.576084</td>\n",
       "      <td>11.011201</td>\n",
       "    </tr>\n",
       "    <tr>\n",
       "      <th>2333.333333</th>\n",
       "      <td>12.409685</td>\n",
       "      <td>12.764026</td>\n",
       "    </tr>\n",
       "    <tr>\n",
       "      <th>2777.777778</th>\n",
       "      <td>14.157983</td>\n",
       "      <td>14.319752</td>\n",
       "    </tr>\n",
       "    <tr>\n",
       "      <th>3222.222222</th>\n",
       "      <td>15.820979</td>\n",
       "      <td>15.678380</td>\n",
       "    </tr>\n",
       "    <tr>\n",
       "      <th>3666.666667</th>\n",
       "      <td>17.398672</td>\n",
       "      <td>16.839909</td>\n",
       "    </tr>\n",
       "    <tr>\n",
       "      <th>4111.111111</th>\n",
       "      <td>18.891063</td>\n",
       "      <td>17.804340</td>\n",
       "    </tr>\n",
       "    <tr>\n",
       "      <th>4555.555556</th>\n",
       "      <td>20.298153</td>\n",
       "      <td>18.571672</td>\n",
       "    </tr>\n",
       "    <tr>\n",
       "      <th>5000.000000</th>\n",
       "      <td>21.619939</td>\n",
       "      <td>19.141906</td>\n",
       "    </tr>\n",
       "  </tbody>\n",
       "</table>\n",
       "</div>"
      ],
      "text/plain": [
       "             rws_culberson  rsw_mccoy\n",
       "pressure                             \n",
       "1000.000000       6.652977   6.914256\n",
       "1444.444444       8.657182   9.061278\n",
       "1888.888889      10.576084  11.011201\n",
       "2333.333333      12.409685  12.764026\n",
       "2777.777778      14.157983  14.319752\n",
       "3222.222222      15.820979  15.678380\n",
       "3666.666667      17.398672  16.839909\n",
       "4111.111111      18.891063  17.804340\n",
       "4555.555556      20.298153  18.571672\n",
       "5000.000000      21.619939  19.141906"
      ]
     },
     "execution_count": 2,
     "metadata": {},
     "output_type": "execute_result"
    }
   ],
   "source": [
    "\n",
    "p = np.linspace(1000,5000,10)\n",
    "\n",
    "bo.rsw(p=p,t=200,s=2000,method=['culberson','mccoy'])"
   ]
  },
  {
   "cell_type": "code",
   "execution_count": 3,
   "metadata": {},
   "outputs": [
    {
     "name": "stdout",
     "output_type": "stream",
     "text": [
      "[0.]\n",
      "[0.]\n",
      "[1.0000669]\n",
      "[1.03683929]\n",
      "mcoy\n",
      "[1.0378]\n",
      "[-1.6096e-06]\n",
      "[2.138e-11]\n",
      "[1.]\n",
      "[1.0000669]\n",
      "[1.]\n"
     ]
    },
    {
     "data": {
      "text/html": [
       "<div>\n",
       "<style scoped>\n",
       "    .dataframe tbody tr th:only-of-type {\n",
       "        vertical-align: middle;\n",
       "    }\n",
       "\n",
       "    .dataframe tbody tr th {\n",
       "        vertical-align: top;\n",
       "    }\n",
       "\n",
       "    .dataframe thead th {\n",
       "        text-align: right;\n",
       "    }\n",
       "</style>\n",
       "<table border=\"1\" class=\"dataframe\">\n",
       "  <thead>\n",
       "    <tr style=\"text-align: right;\">\n",
       "      <th></th>\n",
       "      <th>bw_mccain</th>\n",
       "      <th>bw_mccoy</th>\n",
       "    </tr>\n",
       "    <tr>\n",
       "      <th>pressure</th>\n",
       "      <th></th>\n",
       "      <th></th>\n",
       "    </tr>\n",
       "  </thead>\n",
       "  <tbody>\n",
       "    <tr>\n",
       "      <th>5000</th>\n",
       "      <td>1.036909</td>\n",
       "      <td>1.000067</td>\n",
       "    </tr>\n",
       "  </tbody>\n",
       "</table>\n",
       "</div>"
      ],
      "text/plain": [
       "          bw_mccain  bw_mccoy\n",
       "pressure                     \n",
       "5000       1.036909  1.000067"
      ]
     },
     "execution_count": 3,
     "metadata": {},
     "output_type": "execute_result"
    }
   ],
   "source": [
    "bo.bw(p=5000,t=200,s=2000,method=['mccain','mccoy'])"
   ]
  },
  {
   "cell_type": "code",
   "execution_count": null,
   "metadata": {},
   "outputs": [],
   "source": []
  }
 ],
 "metadata": {
  "kernelspec": {
   "display_name": "Python 3",
   "language": "python",
   "name": "python3"
  },
  "language_info": {
   "codemirror_mode": {
    "name": "ipython",
    "version": 3
   },
   "file_extension": ".py",
   "mimetype": "text/x-python",
   "name": "python",
   "nbconvert_exporter": "python",
   "pygments_lexer": "ipython3",
   "version": "3.7.5"
  }
 },
 "nbformat": 4,
 "nbformat_minor": 4
}
