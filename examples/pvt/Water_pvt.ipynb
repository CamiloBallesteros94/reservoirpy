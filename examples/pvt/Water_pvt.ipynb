{
 "cells": [
  {
   "cell_type": "code",
   "execution_count": 1,
   "metadata": {},
   "outputs": [],
   "source": [
    "import os\n",
    "path = os.path.abspath(os.path.join('..','..'))\n",
    "import sys\n",
    "sys.path.append(path)\n",
    "from reservoirpy.pvtpy import black_oil as bo\n",
    "import pandas as pd\n",
    "import numpy as np\n",
    "import matplotlib.pyplot as plt\n",
    "import pandas as pd"
   ]
  },
  {
   "cell_type": "code",
   "execution_count": 5,
   "metadata": {},
   "outputs": [
    {
     "data": {
      "text/html": [
       "<div>\n",
       "<style scoped>\n",
       "    .dataframe tbody tr th:only-of-type {\n",
       "        vertical-align: middle;\n",
       "    }\n",
       "\n",
       "    .dataframe tbody tr th {\n",
       "        vertical-align: top;\n",
       "    }\n",
       "\n",
       "    .dataframe thead th {\n",
       "        text-align: right;\n",
       "    }\n",
       "</style>\n",
       "<table border=\"1\" class=\"dataframe\">\n",
       "  <thead>\n",
       "    <tr style=\"text-align: right;\">\n",
       "      <th></th>\n",
       "      <th>rsw</th>\n",
       "    </tr>\n",
       "    <tr>\n",
       "      <th>pressure</th>\n",
       "      <th></th>\n",
       "    </tr>\n",
       "  </thead>\n",
       "  <tbody>\n",
       "    <tr>\n",
       "      <th>1000.000000</th>\n",
       "      <td>7.173462</td>\n",
       "    </tr>\n",
       "    <tr>\n",
       "      <th>1111.111111</th>\n",
       "      <td>7.658625</td>\n",
       "    </tr>\n",
       "    <tr>\n",
       "      <th>1222.222222</th>\n",
       "      <td>8.138916</td>\n",
       "    </tr>\n",
       "    <tr>\n",
       "      <th>1333.333333</th>\n",
       "      <td>8.614334</td>\n",
       "    </tr>\n",
       "    <tr>\n",
       "      <th>1444.444444</th>\n",
       "      <td>9.084880</td>\n",
       "    </tr>\n",
       "    <tr>\n",
       "      <th>1555.555556</th>\n",
       "      <td>9.550552</td>\n",
       "    </tr>\n",
       "    <tr>\n",
       "      <th>1666.666667</th>\n",
       "      <td>10.011353</td>\n",
       "    </tr>\n",
       "    <tr>\n",
       "      <th>1777.777778</th>\n",
       "      <td>10.467280</td>\n",
       "    </tr>\n",
       "    <tr>\n",
       "      <th>1888.888889</th>\n",
       "      <td>10.918335</td>\n",
       "    </tr>\n",
       "    <tr>\n",
       "      <th>2000.000000</th>\n",
       "      <td>11.364518</td>\n",
       "    </tr>\n",
       "  </tbody>\n",
       "</table>\n",
       "</div>"
      ],
      "text/plain": [
       "                   rsw\n",
       "pressure              \n",
       "1000.000000   7.173462\n",
       "1111.111111   7.658625\n",
       "1222.222222   8.138916\n",
       "1333.333333   8.614334\n",
       "1444.444444   9.084880\n",
       "1555.555556   9.550552\n",
       "1666.666667  10.011353\n",
       "1777.777778  10.467280\n",
       "1888.888889  10.918335\n",
       "2000.000000  11.364518"
      ]
     },
     "execution_count": 5,
     "metadata": {},
     "output_type": "execute_result"
    }
   ],
   "source": [
    "\n",
    "p = np.linspace(1000,2000,10)\n",
    "\n",
    "bo.rsw(p=p,t=147,s=2000)"
   ]
  },
  {
   "cell_type": "code",
   "execution_count": null,
   "metadata": {},
   "outputs": [],
   "source": []
  }
 ],
 "metadata": {
  "kernelspec": {
   "display_name": "Python 3",
   "language": "python",
   "name": "python3"
  },
  "language_info": {
   "codemirror_mode": {
    "name": "ipython",
    "version": 3
   },
   "file_extension": ".py",
   "mimetype": "text/x-python",
   "name": "python",
   "nbconvert_exporter": "python",
   "pygments_lexer": "ipython3",
   "version": "3.7.5"
  }
 },
 "nbformat": 4,
 "nbformat_minor": 4
}
