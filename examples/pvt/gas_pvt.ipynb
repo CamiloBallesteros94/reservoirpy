{
 "cells": [
  {
   "cell_type": "code",
   "execution_count": 1,
   "metadata": {},
   "outputs": [
    {
     "name": "stderr",
     "output_type": "stream",
     "text": [
      "/home/santiago/Documents/dev/reservoirpy/reservoirpy/pvtpy/black_oil/pvt.py:334: SyntaxWarning: assertion is always true, perhaps remove parentheses?\n",
      "  assert(pressure,(list,np.ndarray,type(None)))\n"
     ]
    }
   ],
   "source": [
    "import os\n",
    "path = os.path.abspath(os.path.join('..','..'))\n",
    "import sys\n",
    "sys.path.append(path)\n",
    "from reservoirpy.pvtpy import black_oil as bo\n",
    "import pandas as pd\n",
    "import numpy as np\n",
    "import matplotlib.pyplot as plt\n",
    "import pandas as pd"
   ]
  },
  {
   "cell_type": "code",
   "execution_count": 2,
   "metadata": {},
   "outputs": [],
   "source": [
    "composition = {\n",
    "    'mole_fraction':[0.02,0.01,0.85,0.04,0.03,0.03,0.02]\n",
    "    }\n",
    "\n",
    "\n",
    "x=bo.chromatography(composition, index=['carbon-dioxide','nitrogen','methane','ethane','propane','isobutane','n-butane'])"
   ]
  },
  {
   "cell_type": "code",
   "execution_count": 3,
   "metadata": {},
   "outputs": [
    {
     "data": {
      "text/html": [
       "<div>\n",
       "<style scoped>\n",
       "    .dataframe tbody tr th:only-of-type {\n",
       "        vertical-align: middle;\n",
       "    }\n",
       "\n",
       "    .dataframe tbody tr th {\n",
       "        vertical-align: top;\n",
       "    }\n",
       "\n",
       "    .dataframe thead th {\n",
       "        text-align: right;\n",
       "    }\n",
       "</style>\n",
       "<table border=\"1\" class=\"dataframe\">\n",
       "  <thead>\n",
       "    <tr style=\"text-align: right;\">\n",
       "      <th></th>\n",
       "      <th>mole_fraction</th>\n",
       "      <th>formula</th>\n",
       "      <th>mw</th>\n",
       "      <th>ppc</th>\n",
       "      <th>tpc</th>\n",
       "    </tr>\n",
       "  </thead>\n",
       "  <tbody>\n",
       "    <tr>\n",
       "      <th>carbon-dioxide</th>\n",
       "      <td>0.02</td>\n",
       "      <td>CO2</td>\n",
       "      <td>44.0100</td>\n",
       "      <td>1071.0</td>\n",
       "      <td>87.91</td>\n",
       "    </tr>\n",
       "    <tr>\n",
       "      <th>nitrogen</th>\n",
       "      <td>0.01</td>\n",
       "      <td>N2</td>\n",
       "      <td>28.0134</td>\n",
       "      <td>493.1</td>\n",
       "      <td>-232.51</td>\n",
       "    </tr>\n",
       "    <tr>\n",
       "      <th>methane</th>\n",
       "      <td>0.85</td>\n",
       "      <td>CH4</td>\n",
       "      <td>16.0430</td>\n",
       "      <td>666.4</td>\n",
       "      <td>-116.67</td>\n",
       "    </tr>\n",
       "    <tr>\n",
       "      <th>ethane</th>\n",
       "      <td>0.04</td>\n",
       "      <td>C2H6</td>\n",
       "      <td>30.0700</td>\n",
       "      <td>706.5</td>\n",
       "      <td>89.92</td>\n",
       "    </tr>\n",
       "    <tr>\n",
       "      <th>propane</th>\n",
       "      <td>0.03</td>\n",
       "      <td>C3H8</td>\n",
       "      <td>44.0970</td>\n",
       "      <td>616.0</td>\n",
       "      <td>206.06</td>\n",
       "    </tr>\n",
       "    <tr>\n",
       "      <th>isobutane</th>\n",
       "      <td>0.03</td>\n",
       "      <td>C4H10</td>\n",
       "      <td>58.1230</td>\n",
       "      <td>527.9</td>\n",
       "      <td>274.46</td>\n",
       "    </tr>\n",
       "    <tr>\n",
       "      <th>n-butane</th>\n",
       "      <td>0.02</td>\n",
       "      <td>C4H10</td>\n",
       "      <td>58.1230</td>\n",
       "      <td>550.6</td>\n",
       "      <td>305.62</td>\n",
       "    </tr>\n",
       "  </tbody>\n",
       "</table>\n",
       "</div>"
      ],
      "text/plain": [
       "                mole_fraction formula       mw     ppc     tpc\n",
       "carbon-dioxide           0.02     CO2  44.0100  1071.0   87.91\n",
       "nitrogen                 0.01      N2  28.0134   493.1 -232.51\n",
       "methane                  0.85     CH4  16.0430   666.4 -116.67\n",
       "ethane                   0.04    C2H6  30.0700   706.5   89.92\n",
       "propane                  0.03    C3H8  44.0970   616.0  206.06\n",
       "isobutane                0.03   C4H10  58.1230   527.9  274.46\n",
       "n-butane                 0.02   C4H10  58.1230   550.6  305.62"
      ]
     },
     "execution_count": 3,
     "metadata": {},
     "output_type": "execute_result"
    }
   ],
   "source": [
    "x"
   ]
  },
  {
   "cell_type": "code",
   "execution_count": 4,
   "metadata": {},
   "outputs": [
    {
     "data": {
      "text/plain": [
       "20.228744"
      ]
     },
     "execution_count": 4,
     "metadata": {},
     "output_type": "execute_result"
    }
   ],
   "source": [
    "x.ma"
   ]
  },
  {
   "cell_type": "code",
   "execution_count": 5,
   "metadata": {},
   "outputs": [
    {
     "data": {
      "text/plain": [
       "0.6985063535911602"
      ]
     },
     "execution_count": 5,
     "metadata": {},
     "output_type": "execute_result"
    }
   ],
   "source": [
    "x.gas_sg"
   ]
  },
  {
   "cell_type": "code",
   "execution_count": 6,
   "metadata": {},
   "outputs": [
    {
     "data": {
      "text/plain": [
       "666.3799999999999"
      ]
     },
     "execution_count": 6,
     "metadata": {},
     "output_type": "execute_result"
    }
   ],
   "source": [
    "x.ppc"
   ]
  },
  {
   "cell_type": "code",
   "execution_count": 7,
   "metadata": {},
   "outputs": [
    {
     "data": {
      "text/plain": [
       "-75.61160000000001"
      ]
     },
     "execution_count": 7,
     "metadata": {},
     "output_type": "execute_result"
    }
   ],
   "source": [
    "x.tpc"
   ]
  },
  {
   "cell_type": "code",
   "execution_count": 8,
   "metadata": {},
   "outputs": [
    {
     "data": {
      "text/html": [
       "<div>\n",
       "<style scoped>\n",
       "    .dataframe tbody tr th:only-of-type {\n",
       "        vertical-align: middle;\n",
       "    }\n",
       "\n",
       "    .dataframe tbody tr th {\n",
       "        vertical-align: top;\n",
       "    }\n",
       "\n",
       "    .dataframe thead th {\n",
       "        text-align: right;\n",
       "    }\n",
       "</style>\n",
       "<table border=\"1\" class=\"dataframe\">\n",
       "  <thead>\n",
       "    <tr style=\"text-align: right;\">\n",
       "      <th></th>\n",
       "      <th>z</th>\n",
       "    </tr>\n",
       "    <tr>\n",
       "      <th>pressure</th>\n",
       "      <th></th>\n",
       "    </tr>\n",
       "  </thead>\n",
       "  <tbody>\n",
       "    <tr>\n",
       "      <th>3000</th>\n",
       "      <td>0.867374</td>\n",
       "    </tr>\n",
       "  </tbody>\n",
       "</table>\n",
       "</div>"
      ],
      "text/plain": [
       "                 z\n",
       "pressure          \n",
       "3000      0.867374"
      ]
     },
     "execution_count": 8,
     "metadata": {},
     "output_type": "execute_result"
    }
   ],
   "source": [
    "x.get_z(p=3000, t=180)"
   ]
  },
  {
   "cell_type": "code",
   "execution_count": 9,
   "metadata": {},
   "outputs": [
    {
     "data": {
      "text/html": [
       "<div>\n",
       "<style scoped>\n",
       "    .dataframe tbody tr th:only-of-type {\n",
       "        vertical-align: middle;\n",
       "    }\n",
       "\n",
       "    .dataframe tbody tr th {\n",
       "        vertical-align: top;\n",
       "    }\n",
       "\n",
       "    .dataframe thead th {\n",
       "        text-align: right;\n",
       "    }\n",
       "</style>\n",
       "<table border=\"1\" class=\"dataframe\">\n",
       "  <thead>\n",
       "    <tr style=\"text-align: right;\">\n",
       "      <th></th>\n",
       "      <th>rhog</th>\n",
       "    </tr>\n",
       "    <tr>\n",
       "      <th>pressure</th>\n",
       "      <th></th>\n",
       "    </tr>\n",
       "  </thead>\n",
       "  <tbody>\n",
       "    <tr>\n",
       "      <th>3000</th>\n",
       "      <td>10.188352</td>\n",
       "    </tr>\n",
       "  </tbody>\n",
       "</table>\n",
       "</div>"
      ],
      "text/plain": [
       "               rhog\n",
       "pressure           \n",
       "3000      10.188352"
      ]
     },
     "execution_count": 9,
     "metadata": {},
     "output_type": "execute_result"
    }
   ],
   "source": [
    "x.get_rhog(p=3000,t=180)"
   ]
  },
  {
   "cell_type": "code",
   "execution_count": 10,
   "metadata": {},
   "outputs": [
    {
     "data": {
      "text/html": [
       "<div>\n",
       "<style scoped>\n",
       "    .dataframe tbody tr th:only-of-type {\n",
       "        vertical-align: middle;\n",
       "    }\n",
       "\n",
       "    .dataframe tbody tr th {\n",
       "        vertical-align: top;\n",
       "    }\n",
       "\n",
       "    .dataframe thead th {\n",
       "        text-align: right;\n",
       "    }\n",
       "</style>\n",
       "<table border=\"1\" class=\"dataframe\">\n",
       "  <thead>\n",
       "    <tr style=\"text-align: right;\">\n",
       "      <th></th>\n",
       "      <th>rhog</th>\n",
       "    </tr>\n",
       "    <tr>\n",
       "      <th>pressure</th>\n",
       "      <th></th>\n",
       "    </tr>\n",
       "  </thead>\n",
       "  <tbody>\n",
       "    <tr>\n",
       "      <th>1000.000000</th>\n",
       "      <td>3.144246</td>\n",
       "    </tr>\n",
       "    <tr>\n",
       "      <th>1444.444444</th>\n",
       "      <td>4.650834</td>\n",
       "    </tr>\n",
       "    <tr>\n",
       "      <th>1888.888889</th>\n",
       "      <td>6.205621</td>\n",
       "    </tr>\n",
       "    <tr>\n",
       "      <th>2333.333333</th>\n",
       "      <td>7.791820</td>\n",
       "    </tr>\n",
       "    <tr>\n",
       "      <th>2777.777778</th>\n",
       "      <td>9.390573</td>\n",
       "    </tr>\n",
       "    <tr>\n",
       "      <th>3222.222222</th>\n",
       "      <td>10.981592</td>\n",
       "    </tr>\n",
       "    <tr>\n",
       "      <th>3666.666667</th>\n",
       "      <td>12.543954</td>\n",
       "    </tr>\n",
       "    <tr>\n",
       "      <th>4111.111111</th>\n",
       "      <td>14.056981</td>\n",
       "    </tr>\n",
       "    <tr>\n",
       "      <th>4555.555556</th>\n",
       "      <td>15.501140</td>\n",
       "    </tr>\n",
       "    <tr>\n",
       "      <th>5000.000000</th>\n",
       "      <td>16.858874</td>\n",
       "    </tr>\n",
       "  </tbody>\n",
       "</table>\n",
       "</div>"
      ],
      "text/plain": [
       "                  rhog\n",
       "pressure              \n",
       "1000.000000   3.144246\n",
       "1444.444444   4.650834\n",
       "1888.888889   6.205621\n",
       "2333.333333   7.791820\n",
       "2777.777778   9.390573\n",
       "3222.222222  10.981592\n",
       "3666.666667  12.543954\n",
       "4111.111111  14.056981\n",
       "4555.555556  15.501140\n",
       "5000.000000  16.858874"
      ]
     },
     "execution_count": 10,
     "metadata": {},
     "output_type": "execute_result"
    }
   ],
   "source": [
    "x.get_rhog(p=np.linspace(1000,5000,10),t=180,rhog_method='real_gas')"
   ]
  },
  {
   "cell_type": "code",
   "execution_count": 11,
   "metadata": {},
   "outputs": [
    {
     "data": {
      "text/html": [
       "<div>\n",
       "<style scoped>\n",
       "    .dataframe tbody tr th:only-of-type {\n",
       "        vertical-align: middle;\n",
       "    }\n",
       "\n",
       "    .dataframe tbody tr th {\n",
       "        vertical-align: top;\n",
       "    }\n",
       "\n",
       "    .dataframe thead th {\n",
       "        text-align: right;\n",
       "    }\n",
       "</style>\n",
       "<table border=\"1\" class=\"dataframe\">\n",
       "  <thead>\n",
       "    <tr style=\"text-align: right;\">\n",
       "      <th></th>\n",
       "      <th>sv</th>\n",
       "    </tr>\n",
       "    <tr>\n",
       "      <th>pressure</th>\n",
       "      <th></th>\n",
       "    </tr>\n",
       "  </thead>\n",
       "  <tbody>\n",
       "    <tr>\n",
       "      <th>3000</th>\n",
       "      <td>0.098151</td>\n",
       "    </tr>\n",
       "  </tbody>\n",
       "</table>\n",
       "</div>"
      ],
      "text/plain": [
       "                sv\n",
       "pressure          \n",
       "3000      0.098151"
      ]
     },
     "execution_count": 11,
     "metadata": {},
     "output_type": "execute_result"
    }
   ],
   "source": [
    "x.get_sv(p=3000,t=180)"
   ]
  },
  {
   "cell_type": "code",
   "execution_count": null,
   "metadata": {},
   "outputs": [],
   "source": []
  }
 ],
 "metadata": {
  "kernelspec": {
   "display_name": "Python 3",
   "language": "python",
   "name": "python3"
  },
  "language_info": {
   "codemirror_mode": {
    "name": "ipython",
    "version": 3
   },
   "file_extension": ".py",
   "mimetype": "text/x-python",
   "name": "python",
   "nbconvert_exporter": "python",
   "pygments_lexer": "ipython3",
   "version": "3.7.5"
  }
 },
 "nbformat": 4,
 "nbformat_minor": 4
}
