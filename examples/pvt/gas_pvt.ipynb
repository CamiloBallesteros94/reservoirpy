{
 "cells": [
  {
   "cell_type": "code",
   "execution_count": 1,
   "metadata": {},
   "outputs": [],
   "source": [
    "import os\n",
    "path = os.path.abspath(os.path.join('..','..'))\n",
    "import sys\n",
    "sys.path.append(path)\n",
    "from reservoirpy.pvtpy import black_oil as bl\n",
    "import pandas as pd\n",
    "import numpy as np\n",
    "import matplotlib.pyplot as plt\n",
    "import pandas as pd"
   ]
  },
  {
   "cell_type": "markdown",
   "metadata": {},
   "source": [
    "# Create a chromatography composition"
   ]
  },
  {
   "cell_type": "code",
   "execution_count": 2,
   "metadata": {},
   "outputs": [],
   "source": [
    "composition = {\n",
    "    'mole_fraction':[0.02,0.01,0.85,0.04,0.03,0.03,0.02]\n",
    "    }\n",
    "\n",
    "\n",
    "x=bl.chromatography(composition, index=['carbon-dioxide','nitrogen','methane','ethane','propane','isobutane','n-butane'])"
   ]
  },
  {
   "cell_type": "code",
   "execution_count": 3,
   "metadata": {},
   "outputs": [
    {
     "data": {
      "text/html": [
       "<div>\n",
       "<style scoped>\n",
       "    .dataframe tbody tr th:only-of-type {\n",
       "        vertical-align: middle;\n",
       "    }\n",
       "\n",
       "    .dataframe tbody tr th {\n",
       "        vertical-align: top;\n",
       "    }\n",
       "\n",
       "    .dataframe thead th {\n",
       "        text-align: right;\n",
       "    }\n",
       "</style>\n",
       "<table border=\"1\" class=\"dataframe\">\n",
       "  <thead>\n",
       "    <tr style=\"text-align: right;\">\n",
       "      <th></th>\n",
       "      <th>mole_fraction</th>\n",
       "      <th>formula</th>\n",
       "      <th>mw</th>\n",
       "      <th>ppc</th>\n",
       "      <th>tpc</th>\n",
       "    </tr>\n",
       "  </thead>\n",
       "  <tbody>\n",
       "    <tr>\n",
       "      <th>carbon-dioxide</th>\n",
       "      <td>0.02</td>\n",
       "      <td>CO2</td>\n",
       "      <td>44.0100</td>\n",
       "      <td>1071.0</td>\n",
       "      <td>87.91</td>\n",
       "    </tr>\n",
       "    <tr>\n",
       "      <th>nitrogen</th>\n",
       "      <td>0.01</td>\n",
       "      <td>N2</td>\n",
       "      <td>28.0134</td>\n",
       "      <td>493.1</td>\n",
       "      <td>-232.51</td>\n",
       "    </tr>\n",
       "    <tr>\n",
       "      <th>methane</th>\n",
       "      <td>0.85</td>\n",
       "      <td>CH4</td>\n",
       "      <td>16.0430</td>\n",
       "      <td>666.4</td>\n",
       "      <td>-116.67</td>\n",
       "    </tr>\n",
       "    <tr>\n",
       "      <th>ethane</th>\n",
       "      <td>0.04</td>\n",
       "      <td>C2H6</td>\n",
       "      <td>30.0700</td>\n",
       "      <td>706.5</td>\n",
       "      <td>89.92</td>\n",
       "    </tr>\n",
       "    <tr>\n",
       "      <th>propane</th>\n",
       "      <td>0.03</td>\n",
       "      <td>C3H8</td>\n",
       "      <td>44.0970</td>\n",
       "      <td>616.0</td>\n",
       "      <td>206.06</td>\n",
       "    </tr>\n",
       "    <tr>\n",
       "      <th>isobutane</th>\n",
       "      <td>0.03</td>\n",
       "      <td>C4H10</td>\n",
       "      <td>58.1230</td>\n",
       "      <td>527.9</td>\n",
       "      <td>274.46</td>\n",
       "    </tr>\n",
       "    <tr>\n",
       "      <th>n-butane</th>\n",
       "      <td>0.02</td>\n",
       "      <td>C4H10</td>\n",
       "      <td>58.1230</td>\n",
       "      <td>550.6</td>\n",
       "      <td>305.62</td>\n",
       "    </tr>\n",
       "  </tbody>\n",
       "</table>\n",
       "</div>"
      ],
      "text/plain": [
       "                mole_fraction formula       mw     ppc     tpc\n",
       "carbon-dioxide           0.02     CO2  44.0100  1071.0   87.91\n",
       "nitrogen                 0.01      N2  28.0134   493.1 -232.51\n",
       "methane                  0.85     CH4  16.0430   666.4 -116.67\n",
       "ethane                   0.04    C2H6  30.0700   706.5   89.92\n",
       "propane                  0.03    C3H8  44.0970   616.0  206.06\n",
       "isobutane                0.03   C4H10  58.1230   527.9  274.46\n",
       "n-butane                 0.02   C4H10  58.1230   550.6  305.62"
      ]
     },
     "execution_count": 3,
     "metadata": {},
     "output_type": "execute_result"
    }
   ],
   "source": [
    "x"
   ]
  },
  {
   "cell_type": "markdown",
   "metadata": {},
   "source": [
    "## Estimate some properties"
   ]
  },
  {
   "cell_type": "markdown",
   "metadata": {},
   "source": [
    "### Apparent Molecular Weigt\n",
    "\n",
    "The apparent Molecular Weight (ma) is calculated by summing the product of molar fraction and molecular weight of each component in the chromatography"
   ]
  },
  {
   "cell_type": "code",
   "execution_count": 4,
   "metadata": {},
   "outputs": [
    {
     "data": {
      "text/plain": [
       "20.228744"
      ]
     },
     "execution_count": 4,
     "metadata": {},
     "output_type": "execute_result"
    }
   ],
   "source": [
    "x.ma"
   ]
  },
  {
   "cell_type": "markdown",
   "metadata": {},
   "source": [
    "### Gas specific gravity\n",
    "\n",
    "The Gas specific gravity is calculated by diving the **ma** by the specific gravity of the *air*"
   ]
  },
  {
   "cell_type": "code",
   "execution_count": 5,
   "metadata": {},
   "outputs": [
    {
     "data": {
      "text/plain": [
       "0.6985063535911602"
      ]
     },
     "execution_count": 5,
     "metadata": {},
     "output_type": "execute_result"
    }
   ],
   "source": [
    "x.gas_sg"
   ]
  },
  {
   "cell_type": "markdown",
   "metadata": {},
   "source": [
    "### Pseudo critical properties\n",
    "\n",
    "The Pseudo critical properties are calulated by summing the product of mole fraction and critical properties (pressure and temperature). By default it corrects the properties by Non-hydrocarbon components with the **wichert-aziz** correlation. "
   ]
  },
  {
   "cell_type": "code",
   "execution_count": 6,
   "metadata": {},
   "outputs": [
    {
     "data": {
      "text/plain": [
       "{'ppc': array([695.6353554]), 'tpc': array([-78.93109373])}"
      ]
     },
     "execution_count": 6,
     "metadata": {},
     "output_type": "execute_result"
    }
   ],
   "source": [
    "x.get_pseudo_critical_properties()"
   ]
  },
  {
   "cell_type": "code",
   "execution_count": 7,
   "metadata": {},
   "outputs": [
    {
     "data": {
      "text/plain": [
       "{'ppc': 666.3799999999999, 'tpc': -75.61160000000001}"
      ]
     },
     "execution_count": 7,
     "metadata": {},
     "output_type": "execute_result"
    }
   ],
   "source": [
    "x.get_pseudo_critical_properties(correct=False)"
   ]
  },
  {
   "cell_type": "code",
   "execution_count": 8,
   "metadata": {},
   "outputs": [
    {
     "data": {
      "text/plain": [
       "{'ppc': array([673.48]), 'tpc': array([-79.7116])}"
      ]
     },
     "execution_count": 8,
     "metadata": {},
     "output_type": "execute_result"
    }
   ],
   "source": [
    "x.get_pseudo_critical_properties(correct_method='carr_kobayashi_burrows')"
   ]
  },
  {
   "cell_type": "markdown",
   "metadata": {},
   "source": [
    "### Get the compressibility factor of gas\n",
    "\n",
    "Estimate the compressibility factor by estimating the critical properties and applying the default correlation method **papay**"
   ]
  },
  {
   "cell_type": "code",
   "execution_count": 9,
   "metadata": {},
   "outputs": [
    {
     "data": {
      "text/html": [
       "<div>\n",
       "<style scoped>\n",
       "    .dataframe tbody tr th:only-of-type {\n",
       "        vertical-align: middle;\n",
       "    }\n",
       "\n",
       "    .dataframe tbody tr th {\n",
       "        vertical-align: top;\n",
       "    }\n",
       "\n",
       "    .dataframe thead th {\n",
       "        text-align: right;\n",
       "    }\n",
       "</style>\n",
       "<table border=\"1\" class=\"dataframe\">\n",
       "  <thead>\n",
       "    <tr style=\"text-align: right;\">\n",
       "      <th></th>\n",
       "      <th>z</th>\n",
       "    </tr>\n",
       "    <tr>\n",
       "      <th>pressure</th>\n",
       "      <th></th>\n",
       "    </tr>\n",
       "  </thead>\n",
       "  <tbody>\n",
       "    <tr>\n",
       "      <th>3000</th>\n",
       "      <td>0.873299</td>\n",
       "    </tr>\n",
       "  </tbody>\n",
       "</table>\n",
       "</div>"
      ],
      "text/plain": [
       "                 z\n",
       "pressure          \n",
       "3000      0.873299"
      ]
     },
     "execution_count": 9,
     "metadata": {},
     "output_type": "execute_result"
    }
   ],
   "source": [
    "x.get_z(p=3000, t=180)"
   ]
  },
  {
   "cell_type": "code",
   "execution_count": 10,
   "metadata": {},
   "outputs": [
    {
     "data": {
      "text/html": [
       "<div>\n",
       "<style scoped>\n",
       "    .dataframe tbody tr th:only-of-type {\n",
       "        vertical-align: middle;\n",
       "    }\n",
       "\n",
       "    .dataframe tbody tr th {\n",
       "        vertical-align: top;\n",
       "    }\n",
       "\n",
       "    .dataframe thead th {\n",
       "        text-align: right;\n",
       "    }\n",
       "</style>\n",
       "<table border=\"1\" class=\"dataframe\">\n",
       "  <thead>\n",
       "    <tr style=\"text-align: right;\">\n",
       "      <th></th>\n",
       "      <th>z</th>\n",
       "    </tr>\n",
       "    <tr>\n",
       "      <th>pressure</th>\n",
       "      <th></th>\n",
       "    </tr>\n",
       "  </thead>\n",
       "  <tbody>\n",
       "    <tr>\n",
       "      <th>1000.000000</th>\n",
       "      <td>0.940261</td>\n",
       "    </tr>\n",
       "    <tr>\n",
       "      <th>1444.444444</th>\n",
       "      <td>0.919329</td>\n",
       "    </tr>\n",
       "    <tr>\n",
       "      <th>1888.888889</th>\n",
       "      <td>0.901855</td>\n",
       "    </tr>\n",
       "    <tr>\n",
       "      <th>2333.333333</th>\n",
       "      <td>0.887839</td>\n",
       "    </tr>\n",
       "    <tr>\n",
       "      <th>2777.777778</th>\n",
       "      <td>0.877281</td>\n",
       "    </tr>\n",
       "    <tr>\n",
       "      <th>3222.222222</th>\n",
       "      <td>0.870181</td>\n",
       "    </tr>\n",
       "    <tr>\n",
       "      <th>3666.666667</th>\n",
       "      <td>0.866539</td>\n",
       "    </tr>\n",
       "    <tr>\n",
       "      <th>4111.111111</th>\n",
       "      <td>0.866355</td>\n",
       "    </tr>\n",
       "    <tr>\n",
       "      <th>4555.555556</th>\n",
       "      <td>0.869629</td>\n",
       "    </tr>\n",
       "    <tr>\n",
       "      <th>5000.000000</th>\n",
       "      <td>0.876361</td>\n",
       "    </tr>\n",
       "  </tbody>\n",
       "</table>\n",
       "</div>"
      ],
      "text/plain": [
       "                    z\n",
       "pressure             \n",
       "1000.000000  0.940261\n",
       "1444.444444  0.919329\n",
       "1888.888889  0.901855\n",
       "2333.333333  0.887839\n",
       "2777.777778  0.877281\n",
       "3222.222222  0.870181\n",
       "3666.666667  0.866539\n",
       "4111.111111  0.866355\n",
       "4555.555556  0.869629\n",
       "5000.000000  0.876361"
      ]
     },
     "execution_count": 10,
     "metadata": {},
     "output_type": "execute_result"
    }
   ],
   "source": [
    "p_range = np.linspace(1000,5000,10)\n",
    "x.get_z(p=p_range, t=180)"
   ]
  },
  {
   "cell_type": "markdown",
   "metadata": {},
   "source": [
    "### Get the gas density in lb/ft3\n",
    "\n",
    "Estimate the gas density by estimating the **ma**, the **z** factor and finnaly applying the gas equation of state for **real gases**"
   ]
  },
  {
   "cell_type": "code",
   "execution_count": 11,
   "metadata": {},
   "outputs": [
    {
     "data": {
      "text/html": [
       "<div>\n",
       "<style scoped>\n",
       "    .dataframe tbody tr th:only-of-type {\n",
       "        vertical-align: middle;\n",
       "    }\n",
       "\n",
       "    .dataframe tbody tr th {\n",
       "        vertical-align: top;\n",
       "    }\n",
       "\n",
       "    .dataframe thead th {\n",
       "        text-align: right;\n",
       "    }\n",
       "</style>\n",
       "<table border=\"1\" class=\"dataframe\">\n",
       "  <thead>\n",
       "    <tr style=\"text-align: right;\">\n",
       "      <th></th>\n",
       "      <th>rhog</th>\n",
       "    </tr>\n",
       "    <tr>\n",
       "      <th>pressure</th>\n",
       "      <th></th>\n",
       "    </tr>\n",
       "  </thead>\n",
       "  <tbody>\n",
       "    <tr>\n",
       "      <th>3000</th>\n",
       "      <td>10.11923</td>\n",
       "    </tr>\n",
       "  </tbody>\n",
       "</table>\n",
       "</div>"
      ],
      "text/plain": [
       "              rhog\n",
       "pressure          \n",
       "3000      10.11923"
      ]
     },
     "execution_count": 11,
     "metadata": {},
     "output_type": "execute_result"
    }
   ],
   "source": [
    "x.get_rhog(p=3000,t=180)"
   ]
  },
  {
   "cell_type": "code",
   "execution_count": 12,
   "metadata": {},
   "outputs": [
    {
     "data": {
      "text/html": [
       "<div>\n",
       "<style scoped>\n",
       "    .dataframe tbody tr th:only-of-type {\n",
       "        vertical-align: middle;\n",
       "    }\n",
       "\n",
       "    .dataframe tbody tr th {\n",
       "        vertical-align: top;\n",
       "    }\n",
       "\n",
       "    .dataframe thead th {\n",
       "        text-align: right;\n",
       "    }\n",
       "</style>\n",
       "<table border=\"1\" class=\"dataframe\">\n",
       "  <thead>\n",
       "    <tr style=\"text-align: right;\">\n",
       "      <th></th>\n",
       "      <th>rhog</th>\n",
       "    </tr>\n",
       "    <tr>\n",
       "      <th>pressure</th>\n",
       "      <th></th>\n",
       "    </tr>\n",
       "  </thead>\n",
       "  <tbody>\n",
       "    <tr>\n",
       "      <th>3000</th>\n",
       "      <td>8.837114</td>\n",
       "    </tr>\n",
       "  </tbody>\n",
       "</table>\n",
       "</div>"
      ],
      "text/plain": [
       "              rhog\n",
       "pressure          \n",
       "3000      8.837114"
      ]
     },
     "execution_count": 12,
     "metadata": {},
     "output_type": "execute_result"
    }
   ],
   "source": [
    "x.get_rhog(p=3000,t=180, rhog_method='ideal_gas')"
   ]
  },
  {
   "cell_type": "code",
   "execution_count": 13,
   "metadata": {},
   "outputs": [
    {
     "data": {
      "text/html": [
       "<div>\n",
       "<style scoped>\n",
       "    .dataframe tbody tr th:only-of-type {\n",
       "        vertical-align: middle;\n",
       "    }\n",
       "\n",
       "    .dataframe tbody tr th {\n",
       "        vertical-align: top;\n",
       "    }\n",
       "\n",
       "    .dataframe thead th {\n",
       "        text-align: right;\n",
       "    }\n",
       "</style>\n",
       "<table border=\"1\" class=\"dataframe\">\n",
       "  <thead>\n",
       "    <tr style=\"text-align: right;\">\n",
       "      <th></th>\n",
       "      <th>rhog</th>\n",
       "    </tr>\n",
       "    <tr>\n",
       "      <th>pressure</th>\n",
       "      <th></th>\n",
       "    </tr>\n",
       "  </thead>\n",
       "  <tbody>\n",
       "    <tr>\n",
       "      <th>1000.000000</th>\n",
       "      <td>3.132860</td>\n",
       "    </tr>\n",
       "    <tr>\n",
       "      <th>1444.444444</th>\n",
       "      <td>4.628275</td>\n",
       "    </tr>\n",
       "    <tr>\n",
       "      <th>1888.888889</th>\n",
       "      <td>6.169627</td>\n",
       "    </tr>\n",
       "    <tr>\n",
       "      <th>2333.333333</th>\n",
       "      <td>7.741617</td>\n",
       "    </tr>\n",
       "    <tr>\n",
       "      <th>2777.777778</th>\n",
       "      <td>9.327126</td>\n",
       "    </tr>\n",
       "    <tr>\n",
       "      <th>3222.222222</th>\n",
       "      <td>10.907744</td>\n",
       "    </tr>\n",
       "    <tr>\n",
       "      <th>3666.666667</th>\n",
       "      <td>12.464429</td>\n",
       "    </tr>\n",
       "    <tr>\n",
       "      <th>4111.111111</th>\n",
       "      <td>13.978238</td>\n",
       "    </tr>\n",
       "    <tr>\n",
       "      <th>4555.555556</th>\n",
       "      <td>15.431087</td>\n",
       "    </tr>\n",
       "    <tr>\n",
       "      <th>5000.000000</th>\n",
       "      <td>16.806461</td>\n",
       "    </tr>\n",
       "  </tbody>\n",
       "</table>\n",
       "</div>"
      ],
      "text/plain": [
       "                  rhog\n",
       "pressure              \n",
       "1000.000000   3.132860\n",
       "1444.444444   4.628275\n",
       "1888.888889   6.169627\n",
       "2333.333333   7.741617\n",
       "2777.777778   9.327126\n",
       "3222.222222  10.907744\n",
       "3666.666667  12.464429\n",
       "4111.111111  13.978238\n",
       "4555.555556  15.431087\n",
       "5000.000000  16.806461"
      ]
     },
     "execution_count": 13,
     "metadata": {},
     "output_type": "execute_result"
    }
   ],
   "source": [
    "x.get_rhog(p=np.linspace(1000,5000,10),t=180,rhog_method='real_gas')"
   ]
  },
  {
   "cell_type": "markdown",
   "metadata": {},
   "source": [
    "### Estimate the Specific volume of Gas. \n",
    "\n",
    "Get the specific volume by estimate the inverse of the density"
   ]
  },
  {
   "cell_type": "code",
   "execution_count": 14,
   "metadata": {},
   "outputs": [
    {
     "data": {
      "text/html": [
       "<div>\n",
       "<style scoped>\n",
       "    .dataframe tbody tr th:only-of-type {\n",
       "        vertical-align: middle;\n",
       "    }\n",
       "\n",
       "    .dataframe tbody tr th {\n",
       "        vertical-align: top;\n",
       "    }\n",
       "\n",
       "    .dataframe thead th {\n",
       "        text-align: right;\n",
       "    }\n",
       "</style>\n",
       "<table border=\"1\" class=\"dataframe\">\n",
       "  <thead>\n",
       "    <tr style=\"text-align: right;\">\n",
       "      <th></th>\n",
       "      <th>sv</th>\n",
       "    </tr>\n",
       "    <tr>\n",
       "      <th>pressure</th>\n",
       "      <th></th>\n",
       "    </tr>\n",
       "  </thead>\n",
       "  <tbody>\n",
       "    <tr>\n",
       "      <th>3000</th>\n",
       "      <td>0.113159</td>\n",
       "    </tr>\n",
       "  </tbody>\n",
       "</table>\n",
       "</div>"
      ],
      "text/plain": [
       "                sv\n",
       "pressure          \n",
       "3000      0.113159"
      ]
     },
     "execution_count": 14,
     "metadata": {},
     "output_type": "execute_result"
    }
   ],
   "source": [
    "x.get_sv(p=3000,t=180, rhog_method='ideal_gas')"
   ]
  },
  {
   "cell_type": "code",
   "execution_count": 15,
   "metadata": {},
   "outputs": [
    {
     "data": {
      "text/html": [
       "<div>\n",
       "<style scoped>\n",
       "    .dataframe tbody tr th:only-of-type {\n",
       "        vertical-align: middle;\n",
       "    }\n",
       "\n",
       "    .dataframe tbody tr th {\n",
       "        vertical-align: top;\n",
       "    }\n",
       "\n",
       "    .dataframe thead th {\n",
       "        text-align: right;\n",
       "    }\n",
       "</style>\n",
       "<table border=\"1\" class=\"dataframe\">\n",
       "  <thead>\n",
       "    <tr style=\"text-align: right;\">\n",
       "      <th></th>\n",
       "      <th>sv</th>\n",
       "    </tr>\n",
       "    <tr>\n",
       "      <th>pressure</th>\n",
       "      <th></th>\n",
       "    </tr>\n",
       "  </thead>\n",
       "  <tbody>\n",
       "    <tr>\n",
       "      <th>3000</th>\n",
       "      <td>0.098822</td>\n",
       "    </tr>\n",
       "  </tbody>\n",
       "</table>\n",
       "</div>"
      ],
      "text/plain": [
       "                sv\n",
       "pressure          \n",
       "3000      0.098822"
      ]
     },
     "execution_count": 15,
     "metadata": {},
     "output_type": "execute_result"
    }
   ],
   "source": [
    "x.get_sv(p=3000,t=180, rhog_method='real_gas')"
   ]
  },
  {
   "cell_type": "markdown",
   "metadata": {},
   "source": [
    "# Create the Gas object"
   ]
  },
  {
   "cell_type": "code",
   "execution_count": 16,
   "metadata": {},
   "outputs": [],
   "source": [
    "fm = 'formation_1'\n",
    "t= 210\n",
    "chrom = x\n",
    "g = bl.gas(formation=fm, temp=t, chromatography=chrom)\n"
   ]
  },
  {
   "cell_type": "code",
   "execution_count": 17,
   "metadata": {},
   "outputs": [
    {
     "data": {
      "text/plain": [
       "{'ppc': array([695.6353554]), 'tpc': array([-78.93109373])}"
      ]
     },
     "execution_count": 17,
     "metadata": {},
     "output_type": "execute_result"
    }
   ],
   "source": [
    "g.pseudo_critical_properties()"
   ]
  },
  {
   "cell_type": "code",
   "execution_count": 18,
   "metadata": {},
   "outputs": [],
   "source": [
    "g.pvt_from_correlations()"
   ]
  },
  {
   "cell_type": "code",
   "execution_count": 19,
   "metadata": {},
   "outputs": [
    {
     "data": {
      "text/html": [
       "<div>\n",
       "<style scoped>\n",
       "    .dataframe tbody tr th:only-of-type {\n",
       "        vertical-align: middle;\n",
       "    }\n",
       "\n",
       "    .dataframe tbody tr th {\n",
       "        vertical-align: top;\n",
       "    }\n",
       "\n",
       "    .dataframe thead th {\n",
       "        text-align: right;\n",
       "    }\n",
       "</style>\n",
       "<table border=\"1\" class=\"dataframe\">\n",
       "  <thead>\n",
       "    <tr style=\"text-align: right;\">\n",
       "      <th></th>\n",
       "      <th>z</th>\n",
       "      <th>rhog</th>\n",
       "      <th>bg</th>\n",
       "      <th>mug</th>\n",
       "      <th>cg</th>\n",
       "    </tr>\n",
       "    <tr>\n",
       "      <th>pressure</th>\n",
       "      <th></th>\n",
       "      <th></th>\n",
       "      <th></th>\n",
       "      <th></th>\n",
       "      <th></th>\n",
       "    </tr>\n",
       "  </thead>\n",
       "  <tbody>\n",
       "    <tr>\n",
       "      <th>20.000000</th>\n",
       "      <td>0.998856</td>\n",
       "      <td>0.056341</td>\n",
       "      <td>0.168312</td>\n",
       "      <td>0.013464</td>\n",
       "      <td>0.050000</td>\n",
       "    </tr>\n",
       "    <tr>\n",
       "      <th>282.105263</th>\n",
       "      <td>0.984428</td>\n",
       "      <td>0.806347</td>\n",
       "      <td>0.011760</td>\n",
       "      <td>0.013644</td>\n",
       "      <td>0.003545</td>\n",
       "    </tr>\n",
       "    <tr>\n",
       "      <th>544.210526</th>\n",
       "      <td>0.971036</td>\n",
       "      <td>1.576979</td>\n",
       "      <td>0.006013</td>\n",
       "      <td>0.013926</td>\n",
       "      <td>0.001838</td>\n",
       "    </tr>\n",
       "    <tr>\n",
       "      <th>806.315789</th>\n",
       "      <td>0.958682</td>\n",
       "      <td>2.366601</td>\n",
       "      <td>0.004007</td>\n",
       "      <td>0.014283</td>\n",
       "      <td>0.001240</td>\n",
       "    </tr>\n",
       "    <tr>\n",
       "      <th>1068.421053</th>\n",
       "      <td>0.947365</td>\n",
       "      <td>3.173362</td>\n",
       "      <td>0.002988</td>\n",
       "      <td>0.014707</td>\n",
       "      <td>0.000936</td>\n",
       "    </tr>\n",
       "    <tr>\n",
       "      <th>1330.526316</th>\n",
       "      <td>0.937085</td>\n",
       "      <td>3.995202</td>\n",
       "      <td>0.002374</td>\n",
       "      <td>0.015197</td>\n",
       "      <td>0.000752</td>\n",
       "    </tr>\n",
       "    <tr>\n",
       "      <th>1592.631579</th>\n",
       "      <td>0.927843</td>\n",
       "      <td>4.829868</td>\n",
       "      <td>0.001963</td>\n",
       "      <td>0.015752</td>\n",
       "      <td>0.000628</td>\n",
       "    </tr>\n",
       "    <tr>\n",
       "      <th>1854.736842</th>\n",
       "      <td>0.919638</td>\n",
       "      <td>5.674920</td>\n",
       "      <td>0.001671</td>\n",
       "      <td>0.016374</td>\n",
       "      <td>0.000539</td>\n",
       "    </tr>\n",
       "    <tr>\n",
       "      <th>2116.842105</th>\n",
       "      <td>0.912470</td>\n",
       "      <td>6.527758</td>\n",
       "      <td>0.001453</td>\n",
       "      <td>0.017064</td>\n",
       "      <td>0.000472</td>\n",
       "    </tr>\n",
       "    <tr>\n",
       "      <th>2378.947368</th>\n",
       "      <td>0.906340</td>\n",
       "      <td>7.385637</td>\n",
       "      <td>0.001284</td>\n",
       "      <td>0.017824</td>\n",
       "      <td>0.000420</td>\n",
       "    </tr>\n",
       "    <tr>\n",
       "      <th>2641.052632</th>\n",
       "      <td>0.901247</td>\n",
       "      <td>8.245699</td>\n",
       "      <td>0.001150</td>\n",
       "      <td>0.018655</td>\n",
       "      <td>0.000379</td>\n",
       "    </tr>\n",
       "    <tr>\n",
       "      <th>2903.157895</th>\n",
       "      <td>0.897192</td>\n",
       "      <td>9.104997</td>\n",
       "      <td>0.001041</td>\n",
       "      <td>0.019559</td>\n",
       "      <td>0.000344</td>\n",
       "    </tr>\n",
       "    <tr>\n",
       "      <th>3165.263158</th>\n",
       "      <td>0.894173</td>\n",
       "      <td>9.960530</td>\n",
       "      <td>0.000952</td>\n",
       "      <td>0.020537</td>\n",
       "      <td>0.000316</td>\n",
       "    </tr>\n",
       "    <tr>\n",
       "      <th>3427.368421</th>\n",
       "      <td>0.892192</td>\n",
       "      <td>10.809276</td>\n",
       "      <td>0.000877</td>\n",
       "      <td>0.021588</td>\n",
       "      <td>0.000292</td>\n",
       "    </tr>\n",
       "    <tr>\n",
       "      <th>3689.473684</th>\n",
       "      <td>0.891249</td>\n",
       "      <td>11.648227</td>\n",
       "      <td>0.000814</td>\n",
       "      <td>0.022712</td>\n",
       "      <td>0.000271</td>\n",
       "    </tr>\n",
       "    <tr>\n",
       "      <th>3951.578947</th>\n",
       "      <td>0.891343</td>\n",
       "      <td>12.474421</td>\n",
       "      <td>0.000760</td>\n",
       "      <td>0.023907</td>\n",
       "      <td>0.000253</td>\n",
       "    </tr>\n",
       "    <tr>\n",
       "      <th>4213.684211</th>\n",
       "      <td>0.892474</td>\n",
       "      <td>13.284982</td>\n",
       "      <td>0.000714</td>\n",
       "      <td>0.025173</td>\n",
       "      <td>0.000237</td>\n",
       "    </tr>\n",
       "    <tr>\n",
       "      <th>4475.789474</th>\n",
       "      <td>0.894642</td>\n",
       "      <td>14.077150</td>\n",
       "      <td>0.000674</td>\n",
       "      <td>0.026503</td>\n",
       "      <td>0.000223</td>\n",
       "    </tr>\n",
       "    <tr>\n",
       "      <th>4737.894737</th>\n",
       "      <td>0.897848</td>\n",
       "      <td>14.848313</td>\n",
       "      <td>0.000639</td>\n",
       "      <td>0.027895</td>\n",
       "      <td>0.000211</td>\n",
       "    </tr>\n",
       "    <tr>\n",
       "      <th>5000.000000</th>\n",
       "      <td>0.902091</td>\n",
       "      <td>15.596034</td>\n",
       "      <td>0.000608</td>\n",
       "      <td>0.029342</td>\n",
       "      <td>0.000200</td>\n",
       "    </tr>\n",
       "  </tbody>\n",
       "</table>\n",
       "</div>"
      ],
      "text/plain": [
       "                    z       rhog        bg       mug        cg\n",
       "pressure                                                      \n",
       "20.000000    0.998856   0.056341  0.168312  0.013464  0.050000\n",
       "282.105263   0.984428   0.806347  0.011760  0.013644  0.003545\n",
       "544.210526   0.971036   1.576979  0.006013  0.013926  0.001838\n",
       "806.315789   0.958682   2.366601  0.004007  0.014283  0.001240\n",
       "1068.421053  0.947365   3.173362  0.002988  0.014707  0.000936\n",
       "1330.526316  0.937085   3.995202  0.002374  0.015197  0.000752\n",
       "1592.631579  0.927843   4.829868  0.001963  0.015752  0.000628\n",
       "1854.736842  0.919638   5.674920  0.001671  0.016374  0.000539\n",
       "2116.842105  0.912470   6.527758  0.001453  0.017064  0.000472\n",
       "2378.947368  0.906340   7.385637  0.001284  0.017824  0.000420\n",
       "2641.052632  0.901247   8.245699  0.001150  0.018655  0.000379\n",
       "2903.157895  0.897192   9.104997  0.001041  0.019559  0.000344\n",
       "3165.263158  0.894173   9.960530  0.000952  0.020537  0.000316\n",
       "3427.368421  0.892192  10.809276  0.000877  0.021588  0.000292\n",
       "3689.473684  0.891249  11.648227  0.000814  0.022712  0.000271\n",
       "3951.578947  0.891343  12.474421  0.000760  0.023907  0.000253\n",
       "4213.684211  0.892474  13.284982  0.000714  0.025173  0.000237\n",
       "4475.789474  0.894642  14.077150  0.000674  0.026503  0.000223\n",
       "4737.894737  0.897848  14.848313  0.000639  0.027895  0.000211\n",
       "5000.000000  0.902091  15.596034  0.000608  0.029342  0.000200"
      ]
     },
     "execution_count": 19,
     "metadata": {},
     "output_type": "execute_result"
    }
   ],
   "source": [
    "g.pvt"
   ]
  },
  {
   "cell_type": "code",
   "execution_count": 20,
   "metadata": {},
   "outputs": [],
   "source": [
    "## Gas without chromatography"
   ]
  },
  {
   "cell_type": "code",
   "execution_count": 21,
   "metadata": {},
   "outputs": [],
   "source": [
    "gas_t = bl.gas(formation=fm, temp=t, sg=0.68)"
   ]
  },
  {
   "cell_type": "code",
   "execution_count": 22,
   "metadata": {},
   "outputs": [],
   "source": [
    "gas_t.pvt_from_correlations()"
   ]
  },
  {
   "cell_type": "code",
   "execution_count": 23,
   "metadata": {},
   "outputs": [
    {
     "data": {
      "text/html": [
       "<div>\n",
       "<style scoped>\n",
       "    .dataframe tbody tr th:only-of-type {\n",
       "        vertical-align: middle;\n",
       "    }\n",
       "\n",
       "    .dataframe tbody tr th {\n",
       "        vertical-align: top;\n",
       "    }\n",
       "\n",
       "    .dataframe thead th {\n",
       "        text-align: right;\n",
       "    }\n",
       "</style>\n",
       "<table border=\"1\" class=\"dataframe\">\n",
       "  <thead>\n",
       "    <tr style=\"text-align: right;\">\n",
       "      <th></th>\n",
       "      <th>z</th>\n",
       "      <th>rhog</th>\n",
       "      <th>bg</th>\n",
       "      <th>mug</th>\n",
       "      <th>cg</th>\n",
       "    </tr>\n",
       "    <tr>\n",
       "      <th>pressure</th>\n",
       "      <th></th>\n",
       "      <th></th>\n",
       "      <th></th>\n",
       "      <th></th>\n",
       "      <th></th>\n",
       "    </tr>\n",
       "  </thead>\n",
       "  <tbody>\n",
       "    <tr>\n",
       "      <th>20.000000</th>\n",
       "      <td>0.998804</td>\n",
       "      <td>0.054851</td>\n",
       "      <td>0.168303</td>\n",
       "      <td>0.013558</td>\n",
       "      <td>0.050000</td>\n",
       "    </tr>\n",
       "    <tr>\n",
       "      <th>282.105263</th>\n",
       "      <td>0.983725</td>\n",
       "      <td>0.785544</td>\n",
       "      <td>0.011752</td>\n",
       "      <td>0.013732</td>\n",
       "      <td>0.003545</td>\n",
       "    </tr>\n",
       "    <tr>\n",
       "      <th>544.210526</th>\n",
       "      <td>0.969752</td>\n",
       "      <td>1.537232</td>\n",
       "      <td>0.006005</td>\n",
       "      <td>0.014006</td>\n",
       "      <td>0.001838</td>\n",
       "    </tr>\n",
       "    <tr>\n",
       "      <th>806.315789</th>\n",
       "      <td>0.956884</td>\n",
       "      <td>2.308230</td>\n",
       "      <td>0.003999</td>\n",
       "      <td>0.014351</td>\n",
       "      <td>0.001240</td>\n",
       "    </tr>\n",
       "    <tr>\n",
       "      <th>1068.421053</th>\n",
       "      <td>0.945121</td>\n",
       "      <td>3.096620</td>\n",
       "      <td>0.002981</td>\n",
       "      <td>0.014762</td>\n",
       "      <td>0.000936</td>\n",
       "    </tr>\n",
       "    <tr>\n",
       "      <th>1330.526316</th>\n",
       "      <td>0.934464</td>\n",
       "      <td>3.900262</td>\n",
       "      <td>0.002367</td>\n",
       "      <td>0.015236</td>\n",
       "      <td>0.000752</td>\n",
       "    </tr>\n",
       "    <tr>\n",
       "      <th>1592.631579</th>\n",
       "      <td>0.924913</td>\n",
       "      <td>4.716801</td>\n",
       "      <td>0.001957</td>\n",
       "      <td>0.015774</td>\n",
       "      <td>0.000628</td>\n",
       "    </tr>\n",
       "    <tr>\n",
       "      <th>1854.736842</th>\n",
       "      <td>0.916467</td>\n",
       "      <td>5.543686</td>\n",
       "      <td>0.001665</td>\n",
       "      <td>0.016376</td>\n",
       "      <td>0.000539</td>\n",
       "    </tr>\n",
       "    <tr>\n",
       "      <th>2116.842105</th>\n",
       "      <td>0.909126</td>\n",
       "      <td>6.378188</td>\n",
       "      <td>0.001447</td>\n",
       "      <td>0.017044</td>\n",
       "      <td>0.000472</td>\n",
       "    </tr>\n",
       "    <tr>\n",
       "      <th>2378.947368</th>\n",
       "      <td>0.902891</td>\n",
       "      <td>7.217427</td>\n",
       "      <td>0.001279</td>\n",
       "      <td>0.017778</td>\n",
       "      <td>0.000420</td>\n",
       "    </tr>\n",
       "    <tr>\n",
       "      <th>2641.052632</th>\n",
       "      <td>0.897762</td>\n",
       "      <td>8.058403</td>\n",
       "      <td>0.001146</td>\n",
       "      <td>0.018579</td>\n",
       "      <td>0.000379</td>\n",
       "    </tr>\n",
       "    <tr>\n",
       "      <th>2903.157895</th>\n",
       "      <td>0.893738</td>\n",
       "      <td>8.898023</td>\n",
       "      <td>0.001037</td>\n",
       "      <td>0.019449</td>\n",
       "      <td>0.000344</td>\n",
       "    </tr>\n",
       "    <tr>\n",
       "      <th>3165.263158</th>\n",
       "      <td>0.890819</td>\n",
       "      <td>9.733145</td>\n",
       "      <td>0.000948</td>\n",
       "      <td>0.020386</td>\n",
       "      <td>0.000316</td>\n",
       "    </tr>\n",
       "    <tr>\n",
       "      <th>3427.368421</th>\n",
       "      <td>0.889006</td>\n",
       "      <td>10.560609</td>\n",
       "      <td>0.000874</td>\n",
       "      <td>0.021392</td>\n",
       "      <td>0.000292</td>\n",
       "    </tr>\n",
       "    <tr>\n",
       "      <th>3689.473684</th>\n",
       "      <td>0.888299</td>\n",
       "      <td>11.377277</td>\n",
       "      <td>0.000811</td>\n",
       "      <td>0.022463</td>\n",
       "      <td>0.000271</td>\n",
       "    </tr>\n",
       "    <tr>\n",
       "      <th>3951.578947</th>\n",
       "      <td>0.888697</td>\n",
       "      <td>12.180076</td>\n",
       "      <td>0.000758</td>\n",
       "      <td>0.023599</td>\n",
       "      <td>0.000253</td>\n",
       "    </tr>\n",
       "    <tr>\n",
       "      <th>4213.684211</th>\n",
       "      <td>0.890200</td>\n",
       "      <td>12.966035</td>\n",
       "      <td>0.000712</td>\n",
       "      <td>0.024796</td>\n",
       "      <td>0.000237</td>\n",
       "    </tr>\n",
       "    <tr>\n",
       "      <th>4475.789474</th>\n",
       "      <td>0.892809</td>\n",
       "      <td>13.732319</td>\n",
       "      <td>0.000672</td>\n",
       "      <td>0.026049</td>\n",
       "      <td>0.000223</td>\n",
       "    </tr>\n",
       "    <tr>\n",
       "      <th>4737.894737</th>\n",
       "      <td>0.896524</td>\n",
       "      <td>14.476264</td>\n",
       "      <td>0.000638</td>\n",
       "      <td>0.027352</td>\n",
       "      <td>0.000211</td>\n",
       "    </tr>\n",
       "    <tr>\n",
       "      <th>5000.000000</th>\n",
       "      <td>0.901344</td>\n",
       "      <td>15.195410</td>\n",
       "      <td>0.000608</td>\n",
       "      <td>0.028700</td>\n",
       "      <td>0.000200</td>\n",
       "    </tr>\n",
       "  </tbody>\n",
       "</table>\n",
       "</div>"
      ],
      "text/plain": [
       "                    z       rhog        bg       mug        cg\n",
       "pressure                                                      \n",
       "20.000000    0.998804   0.054851  0.168303  0.013558  0.050000\n",
       "282.105263   0.983725   0.785544  0.011752  0.013732  0.003545\n",
       "544.210526   0.969752   1.537232  0.006005  0.014006  0.001838\n",
       "806.315789   0.956884   2.308230  0.003999  0.014351  0.001240\n",
       "1068.421053  0.945121   3.096620  0.002981  0.014762  0.000936\n",
       "1330.526316  0.934464   3.900262  0.002367  0.015236  0.000752\n",
       "1592.631579  0.924913   4.716801  0.001957  0.015774  0.000628\n",
       "1854.736842  0.916467   5.543686  0.001665  0.016376  0.000539\n",
       "2116.842105  0.909126   6.378188  0.001447  0.017044  0.000472\n",
       "2378.947368  0.902891   7.217427  0.001279  0.017778  0.000420\n",
       "2641.052632  0.897762   8.058403  0.001146  0.018579  0.000379\n",
       "2903.157895  0.893738   8.898023  0.001037  0.019449  0.000344\n",
       "3165.263158  0.890819   9.733145  0.000948  0.020386  0.000316\n",
       "3427.368421  0.889006  10.560609  0.000874  0.021392  0.000292\n",
       "3689.473684  0.888299  11.377277  0.000811  0.022463  0.000271\n",
       "3951.578947  0.888697  12.180076  0.000758  0.023599  0.000253\n",
       "4213.684211  0.890200  12.966035  0.000712  0.024796  0.000237\n",
       "4475.789474  0.892809  13.732319  0.000672  0.026049  0.000223\n",
       "4737.894737  0.896524  14.476264  0.000638  0.027352  0.000211\n",
       "5000.000000  0.901344  15.195410  0.000608  0.028700  0.000200"
      ]
     },
     "execution_count": 23,
     "metadata": {},
     "output_type": "execute_result"
    }
   ],
   "source": [
    "gas_t.pvt"
   ]
  },
  {
   "cell_type": "code",
   "execution_count": 24,
   "metadata": {},
   "outputs": [
    {
     "data": {
      "text/html": [
       "<div>\n",
       "<style scoped>\n",
       "    .dataframe tbody tr th:only-of-type {\n",
       "        vertical-align: middle;\n",
       "    }\n",
       "\n",
       "    .dataframe tbody tr th {\n",
       "        vertical-align: top;\n",
       "    }\n",
       "\n",
       "    .dataframe thead th {\n",
       "        text-align: right;\n",
       "    }\n",
       "</style>\n",
       "<table border=\"1\" class=\"dataframe\">\n",
       "  <thead>\n",
       "    <tr style=\"text-align: right;\">\n",
       "      <th></th>\n",
       "      <th>z</th>\n",
       "      <th>rhog</th>\n",
       "      <th>bg</th>\n",
       "      <th>mug</th>\n",
       "      <th>cg</th>\n",
       "    </tr>\n",
       "    <tr>\n",
       "      <th>pressure</th>\n",
       "      <th></th>\n",
       "      <th></th>\n",
       "      <th></th>\n",
       "      <th></th>\n",
       "      <th></th>\n",
       "    </tr>\n",
       "  </thead>\n",
       "  <tbody>\n",
       "    <tr>\n",
       "      <th>4000</th>\n",
       "      <td>0.888975</td>\n",
       "      <td>12.325274</td>\n",
       "      <td>0.000749</td>\n",
       "      <td>0.02382</td>\n",
       "      <td>0.00025</td>\n",
       "    </tr>\n",
       "  </tbody>\n",
       "</table>\n",
       "</div>"
      ],
      "text/plain": [
       "                 z       rhog        bg      mug       cg\n",
       "pressure                                                 \n",
       "4000      0.888975  12.325274  0.000749  0.02382  0.00025"
      ]
     },
     "execution_count": 24,
     "metadata": {},
     "output_type": "execute_result"
    }
   ],
   "source": [
    "gas_t.pvt.interpolate(4000)"
   ]
  },
  {
   "cell_type": "code",
   "execution_count": null,
   "metadata": {},
   "outputs": [],
   "source": []
  }
 ],
 "metadata": {
  "kernelspec": {
   "display_name": "Python 3",
   "language": "python",
   "name": "python3"
  },
  "language_info": {
   "codemirror_mode": {
    "name": "ipython",
    "version": 3
   },
   "file_extension": ".py",
   "mimetype": "text/x-python",
   "name": "python",
   "nbconvert_exporter": "python",
   "pygments_lexer": "ipython3",
   "version": "3.7.5"
  }
 },
 "nbformat": 4,
 "nbformat_minor": 4
}
