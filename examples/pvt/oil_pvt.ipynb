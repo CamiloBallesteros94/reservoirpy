{
 "cells": [
  {
   "cell_type": "code",
   "execution_count": 1,
   "metadata": {},
   "outputs": [],
   "source": [
    "import os\n",
    "path = os.path.abspath(os.path.join('..','..'))\n",
    "import sys\n",
    "sys.path.append(path)\n",
    "from reservoirpy.pvtpy import black_oil as bo\n",
    "import pandas as pd\n",
    "import numpy as np\n",
    "import matplotlib.pyplot as plt\n",
    "import pandas as pd"
   ]
  },
  {
   "cell_type": "code",
   "execution_count": 2,
   "metadata": {},
   "outputs": [],
   "source": [
    "o = bo.oil(formation='mir',api=31,rsb=675,sg_gas=0.95,temp=180,bg=np.full(20,0.00123))"
   ]
  },
  {
   "cell_type": "code",
   "execution_count": 3,
   "metadata": {},
   "outputs": [
    {
     "data": {
      "text/plain": [
       "array([0.00123, 0.00123, 0.00123, 0.00123, 0.00123, 0.00123, 0.00123,\n",
       "       0.00123, 0.00123, 0.00123, 0.00123, 0.00123, 0.00123, 0.00123,\n",
       "       0.00123, 0.00123, 0.00123, 0.00123, 0.00123, 0.00123])"
      ]
     },
     "execution_count": 3,
     "metadata": {},
     "output_type": "execute_result"
    }
   ],
   "source": [
    "np.full(20,0.00123)"
   ]
  },
  {
   "cell_type": "code",
   "execution_count": 4,
   "metadata": {},
   "outputs": [
    {
     "name": "stdout",
     "output_type": "stream",
     "text": [
      "[2.65452674]\n",
      "[654.01233006]\n",
      "                     rs        bo        co  muo       rhoo\n",
      "pressure                                                   \n",
      "20.000000      5.326543  1.058035  0.021416  0.0  51.360005\n",
      "282.105263    53.284908  1.079890  0.000461  0.0  50.842386\n",
      "544.210526   111.968851  1.107707  0.000178  0.0  50.179542\n",
      "806.315789   176.660518  1.139550  0.000101  0.0  49.424712\n",
      "1068.421053  245.733349  1.174729  0.000067  0.0  48.603208\n",
      "1330.526316  318.311455  1.212849  0.000049  0.0  47.733152\n",
      "1592.631579  393.837219  1.253634  0.000038  0.0  46.828757\n",
      "1854.736842  471.920759  1.296878  0.000030  0.0  45.901465\n",
      "2116.842105  552.272383  1.342417  0.000025  0.0  44.960546\n",
      "2378.947368  634.667425  1.390115  0.000021  0.0  44.013493\n",
      "2641.052632  674.929091  1.413767  0.000016  0.0  43.681374\n",
      "2903.157895  674.929091  1.413767  0.000015  0.0  43.520553\n",
      "3165.263158  674.929091  1.413767  0.000014  0.0  43.386820\n",
      "3427.368421  674.929091  1.413767  0.000013  0.0  43.273862\n",
      "3689.473684  674.929091  1.413767  0.000012  0.0  43.177188\n",
      "3951.578947  674.929091  1.413767  0.000011  0.0  43.093514\n",
      "4213.684211  674.929091  1.413767  0.000010  0.0  43.020382\n",
      "4475.789474  674.929091  1.413767  0.000010  0.0  42.955919\n",
      "4737.894737  674.929091  1.413767  0.000009  0.0  42.898670\n",
      "5000.000000  674.929091  1.413767  0.000009  0.0  42.847487\n"
     ]
    },
    {
     "data": {
      "text/html": [
       "<div>\n",
       "<style scoped>\n",
       "    .dataframe tbody tr th:only-of-type {\n",
       "        vertical-align: middle;\n",
       "    }\n",
       "\n",
       "    .dataframe tbody tr th {\n",
       "        vertical-align: top;\n",
       "    }\n",
       "\n",
       "    .dataframe thead th {\n",
       "        text-align: right;\n",
       "    }\n",
       "</style>\n",
       "<table border=\"1\" class=\"dataframe\">\n",
       "  <thead>\n",
       "    <tr style=\"text-align: right;\">\n",
       "      <th></th>\n",
       "      <th>rs</th>\n",
       "      <th>bo</th>\n",
       "      <th>co</th>\n",
       "      <th>muo</th>\n",
       "      <th>rhoo</th>\n",
       "    </tr>\n",
       "    <tr>\n",
       "      <th>pressure</th>\n",
       "      <th></th>\n",
       "      <th></th>\n",
       "      <th></th>\n",
       "      <th></th>\n",
       "      <th></th>\n",
       "    </tr>\n",
       "  </thead>\n",
       "  <tbody>\n",
       "    <tr>\n",
       "      <th>20.000000</th>\n",
       "      <td>5.326543</td>\n",
       "      <td>1.058035</td>\n",
       "      <td>0.021416</td>\n",
       "      <td>0.0</td>\n",
       "      <td>51.360005</td>\n",
       "    </tr>\n",
       "    <tr>\n",
       "      <th>282.105263</th>\n",
       "      <td>53.284908</td>\n",
       "      <td>1.079890</td>\n",
       "      <td>0.000461</td>\n",
       "      <td>0.0</td>\n",
       "      <td>50.842386</td>\n",
       "    </tr>\n",
       "    <tr>\n",
       "      <th>544.210526</th>\n",
       "      <td>111.968851</td>\n",
       "      <td>1.107707</td>\n",
       "      <td>0.000178</td>\n",
       "      <td>0.0</td>\n",
       "      <td>50.179542</td>\n",
       "    </tr>\n",
       "    <tr>\n",
       "      <th>806.315789</th>\n",
       "      <td>176.660518</td>\n",
       "      <td>1.139550</td>\n",
       "      <td>0.000101</td>\n",
       "      <td>0.0</td>\n",
       "      <td>49.424712</td>\n",
       "    </tr>\n",
       "    <tr>\n",
       "      <th>1068.421053</th>\n",
       "      <td>245.733349</td>\n",
       "      <td>1.174729</td>\n",
       "      <td>0.000067</td>\n",
       "      <td>0.0</td>\n",
       "      <td>48.603208</td>\n",
       "    </tr>\n",
       "    <tr>\n",
       "      <th>1330.526316</th>\n",
       "      <td>318.311455</td>\n",
       "      <td>1.212849</td>\n",
       "      <td>0.000049</td>\n",
       "      <td>0.0</td>\n",
       "      <td>47.733152</td>\n",
       "    </tr>\n",
       "    <tr>\n",
       "      <th>1592.631579</th>\n",
       "      <td>393.837219</td>\n",
       "      <td>1.253634</td>\n",
       "      <td>0.000038</td>\n",
       "      <td>0.0</td>\n",
       "      <td>46.828757</td>\n",
       "    </tr>\n",
       "    <tr>\n",
       "      <th>1854.736842</th>\n",
       "      <td>471.920759</td>\n",
       "      <td>1.296878</td>\n",
       "      <td>0.000030</td>\n",
       "      <td>0.0</td>\n",
       "      <td>45.901465</td>\n",
       "    </tr>\n",
       "    <tr>\n",
       "      <th>2116.842105</th>\n",
       "      <td>552.272383</td>\n",
       "      <td>1.342417</td>\n",
       "      <td>0.000025</td>\n",
       "      <td>0.0</td>\n",
       "      <td>44.960546</td>\n",
       "    </tr>\n",
       "    <tr>\n",
       "      <th>2378.947368</th>\n",
       "      <td>634.667425</td>\n",
       "      <td>1.390115</td>\n",
       "      <td>0.000021</td>\n",
       "      <td>0.0</td>\n",
       "      <td>44.013493</td>\n",
       "    </tr>\n",
       "    <tr>\n",
       "      <th>2641.052632</th>\n",
       "      <td>674.929091</td>\n",
       "      <td>1.413767</td>\n",
       "      <td>0.000016</td>\n",
       "      <td>0.0</td>\n",
       "      <td>43.681374</td>\n",
       "    </tr>\n",
       "    <tr>\n",
       "      <th>2903.157895</th>\n",
       "      <td>674.929091</td>\n",
       "      <td>1.413767</td>\n",
       "      <td>0.000015</td>\n",
       "      <td>0.0</td>\n",
       "      <td>43.520553</td>\n",
       "    </tr>\n",
       "    <tr>\n",
       "      <th>3165.263158</th>\n",
       "      <td>674.929091</td>\n",
       "      <td>1.413767</td>\n",
       "      <td>0.000014</td>\n",
       "      <td>0.0</td>\n",
       "      <td>43.386820</td>\n",
       "    </tr>\n",
       "    <tr>\n",
       "      <th>3427.368421</th>\n",
       "      <td>674.929091</td>\n",
       "      <td>1.413767</td>\n",
       "      <td>0.000013</td>\n",
       "      <td>0.0</td>\n",
       "      <td>43.273862</td>\n",
       "    </tr>\n",
       "    <tr>\n",
       "      <th>3689.473684</th>\n",
       "      <td>674.929091</td>\n",
       "      <td>1.413767</td>\n",
       "      <td>0.000012</td>\n",
       "      <td>0.0</td>\n",
       "      <td>43.177188</td>\n",
       "    </tr>\n",
       "    <tr>\n",
       "      <th>3951.578947</th>\n",
       "      <td>674.929091</td>\n",
       "      <td>1.413767</td>\n",
       "      <td>0.000011</td>\n",
       "      <td>0.0</td>\n",
       "      <td>43.093514</td>\n",
       "    </tr>\n",
       "    <tr>\n",
       "      <th>4213.684211</th>\n",
       "      <td>674.929091</td>\n",
       "      <td>1.413767</td>\n",
       "      <td>0.000010</td>\n",
       "      <td>0.0</td>\n",
       "      <td>43.020382</td>\n",
       "    </tr>\n",
       "    <tr>\n",
       "      <th>4475.789474</th>\n",
       "      <td>674.929091</td>\n",
       "      <td>1.413767</td>\n",
       "      <td>0.000010</td>\n",
       "      <td>0.0</td>\n",
       "      <td>42.955919</td>\n",
       "    </tr>\n",
       "    <tr>\n",
       "      <th>4737.894737</th>\n",
       "      <td>674.929091</td>\n",
       "      <td>1.413767</td>\n",
       "      <td>0.000009</td>\n",
       "      <td>0.0</td>\n",
       "      <td>42.898670</td>\n",
       "    </tr>\n",
       "    <tr>\n",
       "      <th>5000.000000</th>\n",
       "      <td>674.929091</td>\n",
       "      <td>1.413767</td>\n",
       "      <td>0.000009</td>\n",
       "      <td>0.0</td>\n",
       "      <td>42.847487</td>\n",
       "    </tr>\n",
       "  </tbody>\n",
       "</table>\n",
       "</div>"
      ],
      "text/plain": [
       "                     rs        bo        co  muo       rhoo\n",
       "pressure                                                   \n",
       "20.000000      5.326543  1.058035  0.021416  0.0  51.360005\n",
       "282.105263    53.284908  1.079890  0.000461  0.0  50.842386\n",
       "544.210526   111.968851  1.107707  0.000178  0.0  50.179542\n",
       "806.315789   176.660518  1.139550  0.000101  0.0  49.424712\n",
       "1068.421053  245.733349  1.174729  0.000067  0.0  48.603208\n",
       "1330.526316  318.311455  1.212849  0.000049  0.0  47.733152\n",
       "1592.631579  393.837219  1.253634  0.000038  0.0  46.828757\n",
       "1854.736842  471.920759  1.296878  0.000030  0.0  45.901465\n",
       "2116.842105  552.272383  1.342417  0.000025  0.0  44.960546\n",
       "2378.947368  634.667425  1.390115  0.000021  0.0  44.013493\n",
       "2641.052632  674.929091  1.413767  0.000016  0.0  43.681374\n",
       "2903.157895  674.929091  1.413767  0.000015  0.0  43.520553\n",
       "3165.263158  674.929091  1.413767  0.000014  0.0  43.386820\n",
       "3427.368421  674.929091  1.413767  0.000013  0.0  43.273862\n",
       "3689.473684  674.929091  1.413767  0.000012  0.0  43.177188\n",
       "3951.578947  674.929091  1.413767  0.000011  0.0  43.093514\n",
       "4213.684211  674.929091  1.413767  0.000010  0.0  43.020382\n",
       "4475.789474  674.929091  1.413767  0.000010  0.0  42.955919\n",
       "4737.894737  674.929091  1.413767  0.000009  0.0  42.898670\n",
       "5000.000000  674.929091  1.413767  0.000009  0.0  42.847487"
      ]
     },
     "execution_count": 4,
     "metadata": {},
     "output_type": "execute_result"
    }
   ],
   "source": [
    "o.pvt_from_correlations()"
   ]
  },
  {
   "cell_type": "code",
   "execution_count": 5,
   "metadata": {},
   "outputs": [],
   "source": [
    "o.pvt.set_interpolators()"
   ]
  },
  {
   "cell_type": "code",
   "execution_count": 6,
   "metadata": {},
   "outputs": [
    {
     "data": {
      "text/plain": [
       "array(516.45298452)"
      ]
     },
     "execution_count": 6,
     "metadata": {},
     "output_type": "execute_result"
    }
   ],
   "source": [
    "o.pvt.rs_int(2000)"
   ]
  },
  {
   "cell_type": "code",
   "execution_count": 7,
   "metadata": {},
   "outputs": [
    {
     "data": {
      "text/plain": [
       "<matplotlib.axes._subplots.AxesSubplot at 0x7f4ecb6e8dd0>"
      ]
     },
     "execution_count": 7,
     "metadata": {},
     "output_type": "execute_result"
    },
    {
     "data": {
      "image/png": "[encoded data removed]",
      "text/plain": [
       "<Figure size 432x288 with 1 Axes>"
      ]
     },
     "metadata": {
      "needs_background": "light"
     },
     "output_type": "display_data"
    }
   ],
   "source": [
    "d = {'pressure':[0,100,200,300,400,500,704],'rs':[0,20,30,50,60,100,120]}\n",
    "p = bo.oil_pvt(d)\n",
    "p.plot()"
   ]
  },
  {
   "cell_type": "code",
   "execution_count": 8,
   "metadata": {},
   "outputs": [],
   "source": [
    "rs=675\n",
    "api=31\n",
    "sg_gas=0.95\n",
    "temp = 180\n",
    "y_co2 = 0.2\n",
    "y_h2s = 0.1\n",
    "pb = 1800\n",
    "p = 2000\n",
    "bg = 0.00123 #by/pcn"
   ]
  },
  {
   "cell_type": "code",
   "execution_count": 9,
   "metadata": {},
   "outputs": [
    {
     "data": {
      "text/html": [
       "<div>\n",
       "<style scoped>\n",
       "    .dataframe tbody tr th:only-of-type {\n",
       "        vertical-align: middle;\n",
       "    }\n",
       "\n",
       "    .dataframe tbody tr th {\n",
       "        vertical-align: top;\n",
       "    }\n",
       "\n",
       "    .dataframe thead th {\n",
       "        text-align: right;\n",
       "    }\n",
       "</style>\n",
       "<table border=\"1\" class=\"dataframe\">\n",
       "  <thead>\n",
       "    <tr style=\"text-align: right;\">\n",
       "      <th></th>\n",
       "      <th>pb</th>\n",
       "    </tr>\n",
       "    <tr>\n",
       "      <th>temp</th>\n",
       "      <th></th>\n",
       "    </tr>\n",
       "  </thead>\n",
       "  <tbody>\n",
       "    <tr>\n",
       "      <th>180</th>\n",
       "      <td>2174.376878</td>\n",
       "    </tr>\n",
       "  </tbody>\n",
       "</table>\n",
       "</div>"
      ],
      "text/plain": [
       "               pb\n",
       "temp             \n",
       "180   2174.376878"
      ]
     },
     "execution_count": 9,
     "metadata": {},
     "output_type": "execute_result"
    }
   ],
   "source": [
    "pb_cor = bo.pb(rs=rs,\n",
    "               temp=temp,\n",
    "               sg_gas=sg_gas,\n",
    "               api=api,\n",
    "               y_co2=y_co2,\n",
    "               y_h2s=y_h2s,\n",
    "               multiple=False,\n",
    "               correction=True,\n",
    "               methods=['standing'])\n",
    "pb_cor"
   ]
  },
  {
   "cell_type": "code",
   "execution_count": 10,
   "metadata": {},
   "outputs": [
    {
     "data": {
      "text/html": [
       "<div>\n",
       "<style scoped>\n",
       "    .dataframe tbody tr th:only-of-type {\n",
       "        vertical-align: middle;\n",
       "    }\n",
       "\n",
       "    .dataframe tbody tr th {\n",
       "        vertical-align: top;\n",
       "    }\n",
       "\n",
       "    .dataframe thead th {\n",
       "        text-align: right;\n",
       "    }\n",
       "</style>\n",
       "<table border=\"1\" class=\"dataframe\">\n",
       "  <thead>\n",
       "    <tr style=\"text-align: right;\">\n",
       "      <th></th>\n",
       "      <th>rs</th>\n",
       "    </tr>\n",
       "    <tr>\n",
       "      <th>pressure</th>\n",
       "      <th></th>\n",
       "    </tr>\n",
       "  </thead>\n",
       "  <tbody>\n",
       "    <tr>\n",
       "      <th>2000</th>\n",
       "      <td>455.418283</td>\n",
       "    </tr>\n",
       "  </tbody>\n",
       "</table>\n",
       "</div>"
      ],
      "text/plain": [
       "                  rs\n",
       "pressure            \n",
       "2000      455.418283"
      ]
     },
     "execution_count": 10,
     "metadata": {},
     "output_type": "execute_result"
    }
   ],
   "source": [
    "rs_cor=bo.rs(p=p,\n",
    "             temp=temp,\n",
    "             sg_gas=sg_gas,\n",
    "             api=api,\n",
    "             pb=pb,\n",
    "             multiple=True,\n",
    "             methods=['standing','laster','glaso','vazquez_beggs'])\n",
    "rs_cor"
   ]
  },
  {
   "cell_type": "code",
   "execution_count": 11,
   "metadata": {},
   "outputs": [
    {
     "data": {
      "text/plain": [
       "<matplotlib.axes._subplots.AxesSubplot at 0x7f4ecb39dfd0>"
      ]
     },
     "execution_count": 11,
     "metadata": {},
     "output_type": "execute_result"
    },
    {
     "data": {
      "image/png": "[encoded data removed]",
      "text/plain": [
       "<Figure size 432x288 with 1 Axes>"
      ]
     },
     "metadata": {
      "needs_background": "light"
     },
     "output_type": "display_data"
    }
   ],
   "source": [
    "_p = np.linspace(264,5000,50)\n",
    "rs_cor=bo.rs(p=_p,\n",
    "             temp=temp,\n",
    "             sg_gas=sg_gas,\n",
    "             api=api,\n",
    "             pb=pb, \n",
    "             rsb=450,\n",
    "             multiple=False,\n",
    "             methods=['standing'])\n",
    "rs_cor.plot()"
   ]
  },
  {
   "cell_type": "code",
   "execution_count": 12,
   "metadata": {},
   "outputs": [
    {
     "data": {
      "text/plain": [
       "<matplotlib.axes._subplots.AxesSubplot at 0x7f4ecb332e90>"
      ]
     },
     "execution_count": 12,
     "metadata": {},
     "output_type": "execute_result"
    },
    {
     "data": {
      "image/png": "[encoded data removed]",
      "text/plain": [
       "<Figure size 432x288 with 1 Axes>"
      ]
     },
     "metadata": {
      "needs_background": "light"
     },
     "output_type": "display_data"
    }
   ],
   "source": [
    "bo_cor=bo.bo(p=_p,\n",
    "             rs=rs_cor['rs'].values,\n",
    "             temp=temp,\n",
    "             sg_gas=sg_gas,\n",
    "             api=api,\n",
    "             pb=pb,\n",
    "             multiple=False,\n",
    "             methods=['glaso'])\n",
    "bo_cor.plot()"
   ]
  },
  {
   "cell_type": "code",
   "execution_count": 13,
   "metadata": {},
   "outputs": [
    {
     "data": {
      "text/plain": [
       "<matplotlib.axes._subplots.AxesSubplot at 0x7f4ecb2b4a10>"
      ]
     },
     "execution_count": 13,
     "metadata": {},
     "output_type": "execute_result"
    },
    {
     "data": {
      "image/png": "[encoded data removed]",
      "text/plain": [
       "<Figure size 432x288 with 1 Axes>"
      ]
     },
     "metadata": {
      "needs_background": "light"
     },
     "output_type": "display_data"
    }
   ],
   "source": [
    "co_cor=bo.co(p=_p, \n",
    "             rs=rs_cor['rs'].values, \n",
    "             temp=temp, \n",
    "             pb=pb, \n",
    "             sg_gas=sg_gas, \n",
    "             api=api,\n",
    "             bo=bo_cor['bo'],\n",
    "             bg=np.full(_p.shape,bg), \n",
    "             method_above_pb='petrosky', \n",
    "             method_below_pb='mccain')\n",
    "co_cor.plot()"
   ]
  },
  {
   "cell_type": "code",
   "execution_count": 14,
   "metadata": {},
   "outputs": [
    {
     "name": "stdout",
     "output_type": "stream",
     "text": [
      "Help on function co in module reservoirpy.pvtpy.black_oil.correlations:\n",
      "\n",
      "co(p=None, rs=None, pb=None, temp=None, sg_gas=None, api=None, bo=None, bg=None, method_above_pb='vazquez_beggs', method_below_pb='mccain', **kwargs)\n",
      "    Estimate the Oil compresibility in 1/psi\n",
      "    \n",
      "    Input: \n",
      "        p -> (int,float,list,np.array) Interest Pressure [psi]\n",
      "        rs -> (int,float,np.array) Gas Oil Ratio scf/bbl\n",
      "        pb -> (int,float,np.array) Bubble Point [psi]\n",
      "        temp ->  (int,float,np.array) Temperature [F]\n",
      "        sg_gas -> (int,float,np.array) Gas specifi gravity\n",
      "        api -> (int,float,np.array) Oil API gravity [API]\n",
      "        bo -> (list,np.array) Oil Volumetric factor\n",
      "        bg -> (list,np.array) Oil Volumetric factor\n",
      "        method_above_pb -> (list, default 'vazquez_beggs') method to use above the bubble point\n",
      "                            ['vazquez_beggs','petrosky','kartoatmodjo']\n",
      "        method_below_pb -> (list, default 'mccain') method to use below the bubble point\n",
      "                            ['mccain']\n",
      "        multiple-> Only allows one method for each above and below pb \n",
      "    Return:\n",
      "        rho -> (pd.DataFrame) Oil Density indexed by pressure\n",
      "    \n",
      "    Source: Correlaciones Numericas PVT - Carlos Banzer\n",
      "\n"
     ]
    }
   ],
   "source": [
    "help(bo.co)"
   ]
  },
  {
   "cell_type": "code",
   "execution_count": 15,
   "metadata": {},
   "outputs": [
    {
     "data": {
      "text/plain": [
       "<matplotlib.axes._subplots.AxesSubplot at 0x7f4ecb227790>"
      ]
     },
     "execution_count": 15,
     "metadata": {},
     "output_type": "execute_result"
    },
    {
     "data": {
      "image/png": "[encoded data removed]",
      "text/plain": [
       "<Figure size 432x288 with 1 Axes>"
      ]
     },
     "metadata": {
      "needs_background": "light"
     },
     "output_type": "display_data"
    }
   ],
   "source": [
    "rho_cor=bo.rho_oil(p=_p,\n",
    "                   co=co_cor['co'].values,\n",
    "                   bo=bo_cor['bo'].values,\n",
    "                   rs=rs_cor['rs'].values,\n",
    "                   api=api,\n",
    "                   pb=pb)\n",
    "rho_cor.plot()"
   ]
  },
  {
   "cell_type": "code",
   "execution_count": 16,
   "metadata": {},
   "outputs": [
    {
     "data": {
      "text/html": [
       "<div>\n",
       "<style scoped>\n",
       "    .dataframe tbody tr th:only-of-type {\n",
       "        vertical-align: middle;\n",
       "    }\n",
       "\n",
       "    .dataframe tbody tr th {\n",
       "        vertical-align: top;\n",
       "    }\n",
       "\n",
       "    .dataframe thead th {\n",
       "        text-align: right;\n",
       "    }\n",
       "</style>\n",
       "<table border=\"1\" class=\"dataframe\">\n",
       "  <thead>\n",
       "    <tr style=\"text-align: right;\">\n",
       "      <th></th>\n",
       "      <th>muod</th>\n",
       "    </tr>\n",
       "    <tr>\n",
       "      <th>temp</th>\n",
       "      <th></th>\n",
       "    </tr>\n",
       "  </thead>\n",
       "  <tbody>\n",
       "    <tr>\n",
       "      <th>180</th>\n",
       "      <td>2.654527</td>\n",
       "    </tr>\n",
       "  </tbody>\n",
       "</table>\n",
       "</div>"
      ],
      "text/plain": [
       "          muod\n",
       "temp          \n",
       "180   2.654527"
      ]
     },
     "execution_count": 16,
     "metadata": {},
     "output_type": "execute_result"
    }
   ],
   "source": [
    "_muod = bo.muod(temp=temp,api=api, multiple=True,methods=['beal','beggs','glaso'])\n",
    "_muod"
   ]
  },
  {
   "cell_type": "code",
   "execution_count": 20,
   "metadata": {},
   "outputs": [
    {
     "name": "stdout",
     "output_type": "stream",
     "text": [
      "[2.65452674]\n",
      "[452.63086431]\n"
     ]
    },
    {
     "data": {
      "text/plain": [
       "<matplotlib.axes._subplots.AxesSubplot at 0x7f4ecb10d390>"
      ]
     },
     "execution_count": 20,
     "metadata": {},
     "output_type": "execute_result"
    },
    {
     "data": {
      "image/png": "[encoded data removed]",
      "text/plain": [
       "<Figure size 432x288 with 1 Axes>"
      ]
     },
     "metadata": {
      "needs_background": "light"
     },
     "output_type": "display_data"
    }
   ],
   "source": [
    "muo_cor=bo.muo(p=_p,\n",
    "    rs=rs_cor['rs'].values,\n",
    "    temp=temp,\n",
    "    api=api,\n",
    "    pb=pb,\n",
    "    method_below_pb='chew',\n",
    "    method_above_pb='beal',\n",
    "    method_dead = 'glaso'\n",
    "    )\n",
    "\n",
    "muo_cor.plot()"
   ]
  },
  {
   "cell_type": "code",
   "execution_count": null,
   "metadata": {},
   "outputs": [],
   "source": []
  },
  {
   "cell_type": "code",
   "execution_count": 18,
   "metadata": {},
   "outputs": [
    {
     "data": {
      "text/plain": [
       "True"
      ]
     },
     "execution_count": 18,
     "metadata": {},
     "output_type": "execute_result"
    }
   ],
   "source": [
    "h=None\n",
    "g=type(h)\n",
    "isinstance(h,type(None))"
   ]
  },
  {
   "cell_type": "code",
   "execution_count": 19,
   "metadata": {},
   "outputs": [
    {
     "data": {
      "text/plain": [
       "NoneType"
      ]
     },
     "execution_count": 19,
     "metadata": {},
     "output_type": "execute_result"
    }
   ],
   "source": [
    "g"
   ]
  },
  {
   "cell_type": "code",
   "execution_count": null,
   "metadata": {},
   "outputs": [],
   "source": []
  },
  {
   "cell_type": "code",
   "execution_count": null,
   "metadata": {},
   "outputs": [],
   "source": []
  }
 ],
 "metadata": {
  "kernelspec": {
   "display_name": "Python 3",
   "language": "python",
   "name": "python3"
  },
  "language_info": {
   "codemirror_mode": {
    "name": "ipython",
    "version": 3
   },
   "file_extension": ".py",
   "mimetype": "text/x-python",
   "name": "python",
   "nbconvert_exporter": "python",
   "pygments_lexer": "ipython3",
   "version": "3.7.5"
  }
 },
 "nbformat": 4,
 "nbformat_minor": 4
}
